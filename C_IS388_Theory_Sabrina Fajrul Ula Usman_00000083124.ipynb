{
 "cells": [
  {
   "cell_type": "code",
   "execution_count": 210,
   "id": "08c64033",
   "metadata": {},
   "outputs": [],
   "source": [
    "studentName1 = \"Almira Zahra Aurelia (00000080298)\"\n",
    "studentName2 = \"Darren Irawan Djong (00000081041)\"\n",
    "studentName3 = \"Deby Fitria (00000081068)\"\n",
    "studentName4 = \"Sabrina Fajrul Ula Usman (00000083124)\"\n",
    "studentClass = \"IS388-GL\""
   ]
  },
  {
   "cell_type": "code",
   "execution_count": 211,
   "id": "1e8cf06e",
   "metadata": {},
   "outputs": [
    {
     "name": "stdout",
     "output_type": "stream",
     "text": [
      "Group Member:\n",
      "1. Almira Zahra Aurelia (00000080298)\n",
      "2. Darren Irawan Djong (00000081041)\n",
      "3. Deby Fitria (00000081068)\n",
      "4. Sabrina Fajrul Ula Usman (00000083124)\n",
      "\n",
      "Class: \t\tIS388-GL\n"
     ]
    }
   ],
   "source": [
    "print(\"Group Member:\")\n",
    "print(\"1. {}\".format(studentName1))\n",
    "print(\"2. {}\".format(studentName2))\n",
    "print(\"3. {}\".format(studentName3))\n",
    "print(\"4. {}\".format(studentName4))\n",
    "\n",
    "print(\"\\nClass: \\t\\t{}\".format(studentClass))"
   ]
  },
  {
   "cell_type": "markdown",
   "id": "53dc55e7",
   "metadata": {},
   "source": [
    "## <div align=\"center\"> FINAL PROJECT - GROUP </div>"
   ]
  },
  {
   "cell_type": "markdown",
   "id": "fbcf3614",
   "metadata": {},
   "source": [
    "# IMPORT LIBRARY"
   ]
  },
  {
   "cell_type": "code",
   "execution_count": 1,
   "id": "9232f965",
   "metadata": {},
   "outputs": [],
   "source": [
    "import matplotlib.pyplot as plt\n",
    "import seaborn as sns\n",
    "import pandas as pd\n",
    "import pylab as pl\n",
    "import numpy as np\n",
    "from sklearn import preprocessing\n",
    "from sklearn.preprocessing import MinMaxScaler, PolynomialFeatures\n",
    "from sklearn.model_selection import train_test_split\n",
    "from sklearn.linear_model import LinearRegression\n",
    "from sklearn.metrics import mean_squared_error, r2_score\n",
    "%matplotlib inline"
   ]
  },
  {
   "cell_type": "markdown",
   "id": "f714e02a",
   "metadata": {},
   "source": [
    "# DATASET"
   ]
  },
  {
   "cell_type": "markdown",
   "id": "dff45afe",
   "metadata": {},
   "source": [
    "https://www.kaggle.com/datasets/pavansai25/car-price-prediction"
   ]
  },
  {
   "cell_type": "code",
   "execution_count": 2,
   "id": "bd5d47aa",
   "metadata": {},
   "outputs": [
    {
     "data": {
      "text/html": [
       "<div>\n",
       "<style scoped>\n",
       "    .dataframe tbody tr th:only-of-type {\n",
       "        vertical-align: middle;\n",
       "    }\n",
       "\n",
       "    .dataframe tbody tr th {\n",
       "        vertical-align: top;\n",
       "    }\n",
       "\n",
       "    .dataframe thead th {\n",
       "        text-align: right;\n",
       "    }\n",
       "</style>\n",
       "<table border=\"1\" class=\"dataframe\">\n",
       "  <thead>\n",
       "    <tr style=\"text-align: right;\">\n",
       "      <th></th>\n",
       "      <th>Name</th>\n",
       "      <th>Location</th>\n",
       "      <th>Year</th>\n",
       "      <th>Kilometers_Driven</th>\n",
       "      <th>Fuel_Type</th>\n",
       "      <th>Transmission</th>\n",
       "      <th>Owner_Type</th>\n",
       "      <th>Mileage</th>\n",
       "      <th>Engine</th>\n",
       "      <th>Power</th>\n",
       "      <th>Colour</th>\n",
       "      <th>Seats</th>\n",
       "      <th>No. of Doors</th>\n",
       "      <th>New_Price</th>\n",
       "      <th>Price</th>\n",
       "    </tr>\n",
       "  </thead>\n",
       "  <tbody>\n",
       "    <tr>\n",
       "      <th>0</th>\n",
       "      <td>Mahindra Scorpio</td>\n",
       "      <td>Pune</td>\n",
       "      <td>2012.0</td>\n",
       "      <td>99000.0</td>\n",
       "      <td>Diesel</td>\n",
       "      <td>Manual</td>\n",
       "      <td>Third</td>\n",
       "      <td>12.05 kmpl</td>\n",
       "      <td>2179 CC</td>\n",
       "      <td>120 bhp</td>\n",
       "      <td>Black/Silver</td>\n",
       "      <td>8.0</td>\n",
       "      <td>5.0</td>\n",
       "      <td>NaN</td>\n",
       "      <td>6.00</td>\n",
       "    </tr>\n",
       "    <tr>\n",
       "      <th>1</th>\n",
       "      <td>Maruti Baleno</td>\n",
       "      <td>Kochi</td>\n",
       "      <td>2018.0</td>\n",
       "      <td>18678.0</td>\n",
       "      <td>Petrol</td>\n",
       "      <td>Manual</td>\n",
       "      <td>First</td>\n",
       "      <td>21.1 kmpl</td>\n",
       "      <td>998 CC</td>\n",
       "      <td>100 bhp</td>\n",
       "      <td>Others</td>\n",
       "      <td>5.0</td>\n",
       "      <td>4.0</td>\n",
       "      <td>NaN</td>\n",
       "      <td>8.32</td>\n",
       "    </tr>\n",
       "    <tr>\n",
       "      <th>2</th>\n",
       "      <td>Mahindra Xylo</td>\n",
       "      <td>Bangalore</td>\n",
       "      <td>2013.0</td>\n",
       "      <td>197000.0</td>\n",
       "      <td>Diesel</td>\n",
       "      <td>Manual</td>\n",
       "      <td>First</td>\n",
       "      <td>11.68 kmpl</td>\n",
       "      <td>2498 CC</td>\n",
       "      <td>112 bhp</td>\n",
       "      <td>White</td>\n",
       "      <td>7.0</td>\n",
       "      <td>5.0</td>\n",
       "      <td>NaN</td>\n",
       "      <td>4.00</td>\n",
       "    </tr>\n",
       "    <tr>\n",
       "      <th>3</th>\n",
       "      <td>Hyundai Grand</td>\n",
       "      <td>Delhi</td>\n",
       "      <td>2014.0</td>\n",
       "      <td>45000.0</td>\n",
       "      <td>Diesel</td>\n",
       "      <td>Manual</td>\n",
       "      <td>First</td>\n",
       "      <td>24.0 kmpl</td>\n",
       "      <td>1120 CC</td>\n",
       "      <td>70 bhp</td>\n",
       "      <td>White</td>\n",
       "      <td>5.0</td>\n",
       "      <td>4.0</td>\n",
       "      <td>NaN</td>\n",
       "      <td>3.49</td>\n",
       "    </tr>\n",
       "    <tr>\n",
       "      <th>4</th>\n",
       "      <td>Toyota Innova</td>\n",
       "      <td>Delhi</td>\n",
       "      <td>2011.0</td>\n",
       "      <td>65000.0</td>\n",
       "      <td>Diesel</td>\n",
       "      <td>Manual</td>\n",
       "      <td>First</td>\n",
       "      <td>12.8 kmpl</td>\n",
       "      <td>2494 CC</td>\n",
       "      <td>102 bhp</td>\n",
       "      <td>Others</td>\n",
       "      <td>8.0</td>\n",
       "      <td>5.0</td>\n",
       "      <td>NaN</td>\n",
       "      <td>6.40</td>\n",
       "    </tr>\n",
       "    <tr>\n",
       "      <th>...</th>\n",
       "      <td>...</td>\n",
       "      <td>...</td>\n",
       "      <td>...</td>\n",
       "      <td>...</td>\n",
       "      <td>...</td>\n",
       "      <td>...</td>\n",
       "      <td>...</td>\n",
       "      <td>...</td>\n",
       "      <td>...</td>\n",
       "      <td>...</td>\n",
       "      <td>...</td>\n",
       "      <td>...</td>\n",
       "      <td>...</td>\n",
       "      <td>...</td>\n",
       "      <td>...</td>\n",
       "    </tr>\n",
       "    <tr>\n",
       "      <th>5956</th>\n",
       "      <td>Honda Civic</td>\n",
       "      <td>Pune</td>\n",
       "      <td>2011.0</td>\n",
       "      <td>47000.0</td>\n",
       "      <td>Petrol</td>\n",
       "      <td>Automatic</td>\n",
       "      <td>Second</td>\n",
       "      <td>13.9 kmpl</td>\n",
       "      <td>1799 CC</td>\n",
       "      <td>130.3 bhp</td>\n",
       "      <td>Others</td>\n",
       "      <td>5.0</td>\n",
       "      <td>4.0</td>\n",
       "      <td>NaN</td>\n",
       "      <td>4.50</td>\n",
       "    </tr>\n",
       "    <tr>\n",
       "      <th>5957</th>\n",
       "      <td>Hyundai i20</td>\n",
       "      <td>Delhi</td>\n",
       "      <td>2013.0</td>\n",
       "      <td>63777.0</td>\n",
       "      <td>Petrol</td>\n",
       "      <td>Manual</td>\n",
       "      <td>First</td>\n",
       "      <td>18.5 kmpl</td>\n",
       "      <td>1197 CC</td>\n",
       "      <td>82.9 bhp</td>\n",
       "      <td>Black/Silver</td>\n",
       "      <td>5.0</td>\n",
       "      <td>4.0</td>\n",
       "      <td>NaN</td>\n",
       "      <td>3.67</td>\n",
       "    </tr>\n",
       "    <tr>\n",
       "      <th>5958</th>\n",
       "      <td>Maruti Swift</td>\n",
       "      <td>Coimbatore</td>\n",
       "      <td>2016.0</td>\n",
       "      <td>37806.0</td>\n",
       "      <td>Petrol</td>\n",
       "      <td>Manual</td>\n",
       "      <td>First</td>\n",
       "      <td>20.4 kmpl</td>\n",
       "      <td>1197 CC</td>\n",
       "      <td>81.80 bhp</td>\n",
       "      <td>Black/Silver</td>\n",
       "      <td>5.0</td>\n",
       "      <td>4.0</td>\n",
       "      <td>NaN</td>\n",
       "      <td>5.20</td>\n",
       "    </tr>\n",
       "    <tr>\n",
       "      <th>5959</th>\n",
       "      <td>Mercedes-Benz SLK-Class</td>\n",
       "      <td>Coimbatore</td>\n",
       "      <td>2016.0</td>\n",
       "      <td>22732.0</td>\n",
       "      <td>Petrol</td>\n",
       "      <td>Automatic</td>\n",
       "      <td>First</td>\n",
       "      <td>18.1 kmpl</td>\n",
       "      <td>3498 CC</td>\n",
       "      <td>306 bhp</td>\n",
       "      <td>Black/Silver</td>\n",
       "      <td>2.0</td>\n",
       "      <td>2.0</td>\n",
       "      <td>NaN</td>\n",
       "      <td>55.54</td>\n",
       "    </tr>\n",
       "    <tr>\n",
       "      <th>5960</th>\n",
       "      <td>Hyundai i10</td>\n",
       "      <td>Kolkata</td>\n",
       "      <td>2016.0</td>\n",
       "      <td>7000.0</td>\n",
       "      <td>Petrol</td>\n",
       "      <td>Manual</td>\n",
       "      <td>First</td>\n",
       "      <td>20.36 kmpl</td>\n",
       "      <td>1197 CC</td>\n",
       "      <td>78.9 bhp</td>\n",
       "      <td>White</td>\n",
       "      <td>5.0</td>\n",
       "      <td>4.0</td>\n",
       "      <td>NaN</td>\n",
       "      <td>3.60</td>\n",
       "    </tr>\n",
       "  </tbody>\n",
       "</table>\n",
       "<p>5961 rows × 15 columns</p>\n",
       "</div>"
      ],
      "text/plain": [
       "                         Name    Location    Year  Kilometers_Driven  \\\n",
       "0            Mahindra Scorpio        Pune  2012.0            99000.0   \n",
       "1               Maruti Baleno       Kochi  2018.0            18678.0   \n",
       "2               Mahindra Xylo   Bangalore  2013.0           197000.0   \n",
       "3               Hyundai Grand       Delhi  2014.0            45000.0   \n",
       "4               Toyota Innova       Delhi  2011.0            65000.0   \n",
       "...                       ...         ...     ...                ...   \n",
       "5956              Honda Civic        Pune  2011.0            47000.0   \n",
       "5957              Hyundai i20       Delhi  2013.0            63777.0   \n",
       "5958             Maruti Swift  Coimbatore  2016.0            37806.0   \n",
       "5959  Mercedes-Benz SLK-Class  Coimbatore  2016.0            22732.0   \n",
       "5960              Hyundai i10     Kolkata  2016.0             7000.0   \n",
       "\n",
       "     Fuel_Type Transmission Owner_Type     Mileage   Engine      Power  \\\n",
       "0       Diesel       Manual      Third  12.05 kmpl  2179 CC    120 bhp   \n",
       "1       Petrol       Manual      First   21.1 kmpl   998 CC    100 bhp   \n",
       "2       Diesel       Manual      First  11.68 kmpl  2498 CC    112 bhp   \n",
       "3       Diesel       Manual      First   24.0 kmpl  1120 CC     70 bhp   \n",
       "4       Diesel       Manual      First   12.8 kmpl  2494 CC    102 bhp   \n",
       "...        ...          ...        ...         ...      ...        ...   \n",
       "5956    Petrol    Automatic     Second   13.9 kmpl  1799 CC  130.3 bhp   \n",
       "5957    Petrol       Manual      First   18.5 kmpl  1197 CC   82.9 bhp   \n",
       "5958    Petrol       Manual      First   20.4 kmpl  1197 CC  81.80 bhp   \n",
       "5959    Petrol    Automatic      First   18.1 kmpl  3498 CC    306 bhp   \n",
       "5960    Petrol       Manual      First  20.36 kmpl  1197 CC   78.9 bhp   \n",
       "\n",
       "            Colour  Seats  No. of Doors New_Price  Price  \n",
       "0     Black/Silver    8.0           5.0       NaN   6.00  \n",
       "1           Others    5.0           4.0       NaN   8.32  \n",
       "2            White    7.0           5.0       NaN   4.00  \n",
       "3            White    5.0           4.0       NaN   3.49  \n",
       "4           Others    8.0           5.0       NaN   6.40  \n",
       "...            ...    ...           ...       ...    ...  \n",
       "5956        Others    5.0           4.0       NaN   4.50  \n",
       "5957  Black/Silver    5.0           4.0       NaN   3.67  \n",
       "5958  Black/Silver    5.0           4.0       NaN   5.20  \n",
       "5959  Black/Silver    2.0           2.0       NaN  55.54  \n",
       "5960         White    5.0           4.0       NaN   3.60  \n",
       "\n",
       "[5961 rows x 15 columns]"
      ]
     },
     "execution_count": 2,
     "metadata": {},
     "output_type": "execute_result"
    }
   ],
   "source": [
    "df = pd.read_csv(\"Cars.csv\", delimiter=\",\")\n",
    "df"
   ]
  },
  {
   "cell_type": "code",
   "execution_count": 3,
   "id": "507519c1",
   "metadata": {},
   "outputs": [
    {
     "data": {
      "text/plain": [
       "(5961, 15)"
      ]
     },
     "execution_count": 3,
     "metadata": {},
     "output_type": "execute_result"
    }
   ],
   "source": [
    "df.shape"
   ]
  },
  {
   "cell_type": "code",
   "execution_count": 4,
   "id": "6a52559d",
   "metadata": {},
   "outputs": [
    {
     "data": {
      "text/html": [
       "<div>\n",
       "<style scoped>\n",
       "    .dataframe tbody tr th:only-of-type {\n",
       "        vertical-align: middle;\n",
       "    }\n",
       "\n",
       "    .dataframe tbody tr th {\n",
       "        vertical-align: top;\n",
       "    }\n",
       "\n",
       "    .dataframe thead th {\n",
       "        text-align: right;\n",
       "    }\n",
       "</style>\n",
       "<table border=\"1\" class=\"dataframe\">\n",
       "  <thead>\n",
       "    <tr style=\"text-align: right;\">\n",
       "      <th></th>\n",
       "      <th>Year</th>\n",
       "      <th>Kilometers_Driven</th>\n",
       "      <th>Seats</th>\n",
       "      <th>No. of Doors</th>\n",
       "      <th>Price</th>\n",
       "    </tr>\n",
       "  </thead>\n",
       "  <tbody>\n",
       "    <tr>\n",
       "      <th>count</th>\n",
       "      <td>5959.000000</td>\n",
       "      <td>5.953000e+03</td>\n",
       "      <td>5956.000000</td>\n",
       "      <td>5960.000000</td>\n",
       "      <td>5961.000000</td>\n",
       "    </tr>\n",
       "    <tr>\n",
       "      <th>mean</th>\n",
       "      <td>2013.389159</td>\n",
       "      <td>5.871110e+04</td>\n",
       "      <td>5.269140</td>\n",
       "      <td>4.114933</td>\n",
       "      <td>9.528103</td>\n",
       "    </tr>\n",
       "    <tr>\n",
       "      <th>std</th>\n",
       "      <td>3.243051</td>\n",
       "      <td>9.171221e+04</td>\n",
       "      <td>0.789048</td>\n",
       "      <td>0.344757</td>\n",
       "      <td>11.214382</td>\n",
       "    </tr>\n",
       "    <tr>\n",
       "      <th>min</th>\n",
       "      <td>1998.000000</td>\n",
       "      <td>1.710000e+02</td>\n",
       "      <td>2.000000</td>\n",
       "      <td>2.000000</td>\n",
       "      <td>0.440000</td>\n",
       "    </tr>\n",
       "    <tr>\n",
       "      <th>25%</th>\n",
       "      <td>2011.500000</td>\n",
       "      <td>3.393100e+04</td>\n",
       "      <td>5.000000</td>\n",
       "      <td>4.000000</td>\n",
       "      <td>3.500000</td>\n",
       "    </tr>\n",
       "    <tr>\n",
       "      <th>50%</th>\n",
       "      <td>2014.000000</td>\n",
       "      <td>5.300000e+04</td>\n",
       "      <td>5.000000</td>\n",
       "      <td>4.000000</td>\n",
       "      <td>5.660000</td>\n",
       "    </tr>\n",
       "    <tr>\n",
       "      <th>75%</th>\n",
       "      <td>2016.000000</td>\n",
       "      <td>7.300000e+04</td>\n",
       "      <td>5.000000</td>\n",
       "      <td>4.000000</td>\n",
       "      <td>10.000000</td>\n",
       "    </tr>\n",
       "    <tr>\n",
       "      <th>max</th>\n",
       "      <td>2019.000000</td>\n",
       "      <td>6.500000e+06</td>\n",
       "      <td>10.000000</td>\n",
       "      <td>5.000000</td>\n",
       "      <td>160.000000</td>\n",
       "    </tr>\n",
       "  </tbody>\n",
       "</table>\n",
       "</div>"
      ],
      "text/plain": [
       "              Year  Kilometers_Driven        Seats  No. of Doors        Price\n",
       "count  5959.000000       5.953000e+03  5956.000000   5960.000000  5961.000000\n",
       "mean   2013.389159       5.871110e+04     5.269140      4.114933     9.528103\n",
       "std       3.243051       9.171221e+04     0.789048      0.344757    11.214382\n",
       "min    1998.000000       1.710000e+02     2.000000      2.000000     0.440000\n",
       "25%    2011.500000       3.393100e+04     5.000000      4.000000     3.500000\n",
       "50%    2014.000000       5.300000e+04     5.000000      4.000000     5.660000\n",
       "75%    2016.000000       7.300000e+04     5.000000      4.000000    10.000000\n",
       "max    2019.000000       6.500000e+06    10.000000      5.000000   160.000000"
      ]
     },
     "execution_count": 4,
     "metadata": {},
     "output_type": "execute_result"
    }
   ],
   "source": [
    "# summarize the data\n",
    "df.describe()"
   ]
  },
  {
   "cell_type": "code",
   "execution_count": 5,
   "id": "5d70749a",
   "metadata": {},
   "outputs": [
    {
     "name": "stdout",
     "output_type": "stream",
     "text": [
      "<class 'pandas.core.frame.DataFrame'>\n",
      "RangeIndex: 5961 entries, 0 to 5960\n",
      "Data columns (total 15 columns):\n",
      " #   Column             Non-Null Count  Dtype  \n",
      "---  ------             --------------  -----  \n",
      " 0   Name               5961 non-null   object \n",
      " 1   Location           5950 non-null   object \n",
      " 2   Year               5959 non-null   float64\n",
      " 3   Kilometers_Driven  5953 non-null   float64\n",
      " 4   Fuel_Type          5961 non-null   object \n",
      " 5   Transmission       5934 non-null   object \n",
      " 6   Owner_Type         5946 non-null   object \n",
      " 7   Mileage            5959 non-null   object \n",
      " 8   Engine             5944 non-null   object \n",
      " 9   Power              5929 non-null   object \n",
      " 10  Colour             5950 non-null   object \n",
      " 11  Seats              5956 non-null   float64\n",
      " 12  No. of Doors       5960 non-null   float64\n",
      " 13  New_Price          824 non-null    object \n",
      " 14  Price              5961 non-null   float64\n",
      "dtypes: float64(5), object(10)\n",
      "memory usage: 698.7+ KB\n"
     ]
    }
   ],
   "source": [
    "df.info()"
   ]
  },
  {
   "cell_type": "markdown",
   "id": "97b59364",
   "metadata": {},
   "source": [
    "# DATA PREPROCESSING"
   ]
  },
  {
   "cell_type": "markdown",
   "id": "4eafcbc9",
   "metadata": {},
   "source": [
    "**HANDLING MISSING VALUES**"
   ]
  },
  {
   "cell_type": "code",
   "execution_count": 6,
   "id": "a9a0e587",
   "metadata": {},
   "outputs": [
    {
     "data": {
      "text/plain": [
       "Name                    0\n",
       "Location               11\n",
       "Year                    2\n",
       "Kilometers_Driven       8\n",
       "Fuel_Type               0\n",
       "Transmission           27\n",
       "Owner_Type             15\n",
       "Mileage                 2\n",
       "Engine                 17\n",
       "Power                  32\n",
       "Colour                 11\n",
       "Seats                   5\n",
       "No. of Doors            1\n",
       "New_Price            5137\n",
       "Price                   0\n",
       "dtype: int64"
      ]
     },
     "execution_count": 6,
     "metadata": {},
     "output_type": "execute_result"
    }
   ],
   "source": [
    "df.isnull().sum()"
   ]
  },
  {
   "cell_type": "code",
   "execution_count": 7,
   "id": "10700ae5",
   "metadata": {},
   "outputs": [],
   "source": [
    "df = df.dropna(subset=['Location', 'Year', 'Kilometers_Driven', 'Transmission', 'Owner_Type', 'Mileage', 'Engine', 'Power',\n",
    "                    'Colour', 'Seats', 'No. of Doors', 'Price'])"
   ]
  },
  {
   "cell_type": "markdown",
   "id": "7c66dbd6",
   "metadata": {},
   "source": [
    "**FORMATTING**"
   ]
  },
  {
   "cell_type": "code",
   "execution_count": 8,
   "id": "7be8eb03",
   "metadata": {},
   "outputs": [
    {
     "name": "stderr",
     "output_type": "stream",
     "text": [
      "C:\\Users\\Lenovo\\AppData\\Local\\Temp\\ipykernel_8816\\2442281602.py:1: SettingWithCopyWarning: \n",
      "A value is trying to be set on a copy of a slice from a DataFrame.\n",
      "Try using .loc[row_indexer,col_indexer] = value instead\n",
      "\n",
      "See the caveats in the documentation: https://pandas.pydata.org/pandas-docs/stable/user_guide/indexing.html#returning-a-view-versus-a-copy\n",
      "  df['Year'] = df['Year'].fillna(df['Year'].median()).astype('int')\n"
     ]
    }
   ],
   "source": [
    "df['Year'] = df['Year'].fillna(df['Year'].median()).astype('int')"
   ]
  },
  {
   "cell_type": "code",
   "execution_count": 9,
   "id": "5788e45d",
   "metadata": {},
   "outputs": [
    {
     "name": "stderr",
     "output_type": "stream",
     "text": [
      "C:\\Users\\Lenovo\\AppData\\Local\\Temp\\ipykernel_8816\\3944461531.py:1: SettingWithCopyWarning: \n",
      "A value is trying to be set on a copy of a slice from a DataFrame.\n",
      "Try using .loc[row_indexer,col_indexer] = value instead\n",
      "\n",
      "See the caveats in the documentation: https://pandas.pydata.org/pandas-docs/stable/user_guide/indexing.html#returning-a-view-versus-a-copy\n",
      "  df['Mileage'] = df['Mileage'].str.replace(' kmpl', '').str.replace(' km/kg', '').astype(float)\n"
     ]
    }
   ],
   "source": [
    "df['Mileage'] = df['Mileage'].str.replace(' kmpl', '').str.replace(' km/kg', '').astype(float)"
   ]
  },
  {
   "cell_type": "code",
   "execution_count": 10,
   "id": "eb3b4156",
   "metadata": {},
   "outputs": [
    {
     "name": "stderr",
     "output_type": "stream",
     "text": [
      "C:\\Users\\Lenovo\\AppData\\Local\\Temp\\ipykernel_8816\\505899246.py:1: SettingWithCopyWarning: \n",
      "A value is trying to be set on a copy of a slice from a DataFrame.\n",
      "Try using .loc[row_indexer,col_indexer] = value instead\n",
      "\n",
      "See the caveats in the documentation: https://pandas.pydata.org/pandas-docs/stable/user_guide/indexing.html#returning-a-view-versus-a-copy\n",
      "  df['Engine'] = df['Engine'].str.replace(' CC', '').astype(float)\n"
     ]
    }
   ],
   "source": [
    "df['Engine'] = df['Engine'].str.replace(' CC', '').astype(float)"
   ]
  },
  {
   "cell_type": "code",
   "execution_count": 11,
   "id": "5e01c688",
   "metadata": {},
   "outputs": [
    {
     "name": "stderr",
     "output_type": "stream",
     "text": [
      "C:\\Users\\Lenovo\\AppData\\Local\\Temp\\ipykernel_8816\\1760208137.py:1: SettingWithCopyWarning: \n",
      "A value is trying to be set on a copy of a slice from a DataFrame.\n",
      "Try using .loc[row_indexer,col_indexer] = value instead\n",
      "\n",
      "See the caveats in the documentation: https://pandas.pydata.org/pandas-docs/stable/user_guide/indexing.html#returning-a-view-versus-a-copy\n",
      "  df['Power'] = df['Power'].str.replace(' bhp', '')\n",
      "C:\\Users\\Lenovo\\AppData\\Local\\Temp\\ipykernel_8816\\1760208137.py:3: SettingWithCopyWarning: \n",
      "A value is trying to be set on a copy of a slice from a DataFrame.\n",
      "Try using .loc[row_indexer,col_indexer] = value instead\n",
      "\n",
      "See the caveats in the documentation: https://pandas.pydata.org/pandas-docs/stable/user_guide/indexing.html#returning-a-view-versus-a-copy\n",
      "  df['Power'] = pd.to_numeric(df['Power'], errors='coerce')\n"
     ]
    }
   ],
   "source": [
    "df['Power'] = df['Power'].str.replace(' bhp', '')\n",
    "\n",
    "df['Power'] = pd.to_numeric(df['Power'], errors='coerce')"
   ]
  },
  {
   "cell_type": "code",
   "execution_count": 12,
   "id": "f63b22db",
   "metadata": {},
   "outputs": [
    {
     "data": {
      "text/html": [
       "<div>\n",
       "<style scoped>\n",
       "    .dataframe tbody tr th:only-of-type {\n",
       "        vertical-align: middle;\n",
       "    }\n",
       "\n",
       "    .dataframe tbody tr th {\n",
       "        vertical-align: top;\n",
       "    }\n",
       "\n",
       "    .dataframe thead th {\n",
       "        text-align: right;\n",
       "    }\n",
       "</style>\n",
       "<table border=\"1\" class=\"dataframe\">\n",
       "  <thead>\n",
       "    <tr style=\"text-align: right;\">\n",
       "      <th></th>\n",
       "      <th>Name</th>\n",
       "      <th>Location</th>\n",
       "      <th>Year</th>\n",
       "      <th>Kilometers_Driven</th>\n",
       "      <th>Fuel_Type</th>\n",
       "      <th>Transmission</th>\n",
       "      <th>Owner_Type</th>\n",
       "      <th>Mileage</th>\n",
       "      <th>Engine</th>\n",
       "      <th>Power</th>\n",
       "      <th>Colour</th>\n",
       "      <th>Seats</th>\n",
       "      <th>No. of Doors</th>\n",
       "      <th>New_Price</th>\n",
       "      <th>Price</th>\n",
       "    </tr>\n",
       "  </thead>\n",
       "  <tbody>\n",
       "    <tr>\n",
       "      <th>0</th>\n",
       "      <td>Mahindra Scorpio</td>\n",
       "      <td>Pune</td>\n",
       "      <td>2012</td>\n",
       "      <td>99000.0</td>\n",
       "      <td>Diesel</td>\n",
       "      <td>Manual</td>\n",
       "      <td>Third</td>\n",
       "      <td>12.05</td>\n",
       "      <td>2179.0</td>\n",
       "      <td>120.0</td>\n",
       "      <td>Black/Silver</td>\n",
       "      <td>8.0</td>\n",
       "      <td>5.0</td>\n",
       "      <td>NaN</td>\n",
       "      <td>6.00</td>\n",
       "    </tr>\n",
       "    <tr>\n",
       "      <th>1</th>\n",
       "      <td>Maruti Baleno</td>\n",
       "      <td>Kochi</td>\n",
       "      <td>2018</td>\n",
       "      <td>18678.0</td>\n",
       "      <td>Petrol</td>\n",
       "      <td>Manual</td>\n",
       "      <td>First</td>\n",
       "      <td>21.10</td>\n",
       "      <td>998.0</td>\n",
       "      <td>100.0</td>\n",
       "      <td>Others</td>\n",
       "      <td>5.0</td>\n",
       "      <td>4.0</td>\n",
       "      <td>NaN</td>\n",
       "      <td>8.32</td>\n",
       "    </tr>\n",
       "    <tr>\n",
       "      <th>2</th>\n",
       "      <td>Mahindra Xylo</td>\n",
       "      <td>Bangalore</td>\n",
       "      <td>2013</td>\n",
       "      <td>197000.0</td>\n",
       "      <td>Diesel</td>\n",
       "      <td>Manual</td>\n",
       "      <td>First</td>\n",
       "      <td>11.68</td>\n",
       "      <td>2498.0</td>\n",
       "      <td>112.0</td>\n",
       "      <td>White</td>\n",
       "      <td>7.0</td>\n",
       "      <td>5.0</td>\n",
       "      <td>NaN</td>\n",
       "      <td>4.00</td>\n",
       "    </tr>\n",
       "    <tr>\n",
       "      <th>3</th>\n",
       "      <td>Hyundai Grand</td>\n",
       "      <td>Delhi</td>\n",
       "      <td>2014</td>\n",
       "      <td>45000.0</td>\n",
       "      <td>Diesel</td>\n",
       "      <td>Manual</td>\n",
       "      <td>First</td>\n",
       "      <td>24.00</td>\n",
       "      <td>1120.0</td>\n",
       "      <td>70.0</td>\n",
       "      <td>White</td>\n",
       "      <td>5.0</td>\n",
       "      <td>4.0</td>\n",
       "      <td>NaN</td>\n",
       "      <td>3.49</td>\n",
       "    </tr>\n",
       "    <tr>\n",
       "      <th>4</th>\n",
       "      <td>Toyota Innova</td>\n",
       "      <td>Delhi</td>\n",
       "      <td>2011</td>\n",
       "      <td>65000.0</td>\n",
       "      <td>Diesel</td>\n",
       "      <td>Manual</td>\n",
       "      <td>First</td>\n",
       "      <td>12.80</td>\n",
       "      <td>2494.0</td>\n",
       "      <td>102.0</td>\n",
       "      <td>Others</td>\n",
       "      <td>8.0</td>\n",
       "      <td>5.0</td>\n",
       "      <td>NaN</td>\n",
       "      <td>6.40</td>\n",
       "    </tr>\n",
       "  </tbody>\n",
       "</table>\n",
       "</div>"
      ],
      "text/plain": [
       "               Name   Location  Year  Kilometers_Driven Fuel_Type  \\\n",
       "0  Mahindra Scorpio       Pune  2012            99000.0    Diesel   \n",
       "1     Maruti Baleno      Kochi  2018            18678.0    Petrol   \n",
       "2     Mahindra Xylo  Bangalore  2013           197000.0    Diesel   \n",
       "3     Hyundai Grand      Delhi  2014            45000.0    Diesel   \n",
       "4     Toyota Innova      Delhi  2011            65000.0    Diesel   \n",
       "\n",
       "  Transmission Owner_Type  Mileage  Engine  Power        Colour  Seats  \\\n",
       "0       Manual      Third    12.05  2179.0  120.0  Black/Silver    8.0   \n",
       "1       Manual      First    21.10   998.0  100.0        Others    5.0   \n",
       "2       Manual      First    11.68  2498.0  112.0         White    7.0   \n",
       "3       Manual      First    24.00  1120.0   70.0         White    5.0   \n",
       "4       Manual      First    12.80  2494.0  102.0        Others    8.0   \n",
       "\n",
       "   No. of Doors New_Price  Price  \n",
       "0           5.0       NaN   6.00  \n",
       "1           4.0       NaN   8.32  \n",
       "2           5.0       NaN   4.00  \n",
       "3           4.0       NaN   3.49  \n",
       "4           5.0       NaN   6.40  "
      ]
     },
     "execution_count": 12,
     "metadata": {},
     "output_type": "execute_result"
    }
   ],
   "source": [
    "df.head()"
   ]
  },
  {
   "cell_type": "markdown",
   "id": "379f0647",
   "metadata": {},
   "source": [
    "**BINNING**"
   ]
  },
  {
   "cell_type": "code",
   "execution_count": 13,
   "id": "fa15f9f0",
   "metadata": {},
   "outputs": [
    {
     "name": "stderr",
     "output_type": "stream",
     "text": [
      "C:\\Users\\Lenovo\\AppData\\Local\\Temp\\ipykernel_8816\\1458631498.py:10: SettingWithCopyWarning: \n",
      "A value is trying to be set on a copy of a slice from a DataFrame.\n",
      "Try using .loc[row_indexer,col_indexer] = value instead\n",
      "\n",
      "See the caveats in the documentation: https://pandas.pydata.org/pandas-docs/stable/user_guide/indexing.html#returning-a-view-versus-a-copy\n",
      "  df['Age'] = df['Year'].apply(hitung_umur)\n"
     ]
    },
    {
     "data": {
      "text/html": [
       "<div>\n",
       "<style scoped>\n",
       "    .dataframe tbody tr th:only-of-type {\n",
       "        vertical-align: middle;\n",
       "    }\n",
       "\n",
       "    .dataframe tbody tr th {\n",
       "        vertical-align: top;\n",
       "    }\n",
       "\n",
       "    .dataframe thead th {\n",
       "        text-align: right;\n",
       "    }\n",
       "</style>\n",
       "<table border=\"1\" class=\"dataframe\">\n",
       "  <thead>\n",
       "    <tr style=\"text-align: right;\">\n",
       "      <th></th>\n",
       "      <th>Name</th>\n",
       "      <th>Year</th>\n",
       "      <th>Age</th>\n",
       "    </tr>\n",
       "  </thead>\n",
       "  <tbody>\n",
       "    <tr>\n",
       "      <th>0</th>\n",
       "      <td>Mahindra Scorpio</td>\n",
       "      <td>2012</td>\n",
       "      <td>12</td>\n",
       "    </tr>\n",
       "    <tr>\n",
       "      <th>1</th>\n",
       "      <td>Maruti Baleno</td>\n",
       "      <td>2018</td>\n",
       "      <td>6</td>\n",
       "    </tr>\n",
       "    <tr>\n",
       "      <th>2</th>\n",
       "      <td>Mahindra Xylo</td>\n",
       "      <td>2013</td>\n",
       "      <td>11</td>\n",
       "    </tr>\n",
       "    <tr>\n",
       "      <th>3</th>\n",
       "      <td>Hyundai Grand</td>\n",
       "      <td>2014</td>\n",
       "      <td>10</td>\n",
       "    </tr>\n",
       "    <tr>\n",
       "      <th>4</th>\n",
       "      <td>Toyota Innova</td>\n",
       "      <td>2011</td>\n",
       "      <td>13</td>\n",
       "    </tr>\n",
       "    <tr>\n",
       "      <th>...</th>\n",
       "      <td>...</td>\n",
       "      <td>...</td>\n",
       "      <td>...</td>\n",
       "    </tr>\n",
       "    <tr>\n",
       "      <th>5956</th>\n",
       "      <td>Honda Civic</td>\n",
       "      <td>2011</td>\n",
       "      <td>13</td>\n",
       "    </tr>\n",
       "    <tr>\n",
       "      <th>5957</th>\n",
       "      <td>Hyundai i20</td>\n",
       "      <td>2013</td>\n",
       "      <td>11</td>\n",
       "    </tr>\n",
       "    <tr>\n",
       "      <th>5958</th>\n",
       "      <td>Maruti Swift</td>\n",
       "      <td>2016</td>\n",
       "      <td>8</td>\n",
       "    </tr>\n",
       "    <tr>\n",
       "      <th>5959</th>\n",
       "      <td>Mercedes-Benz SLK-Class</td>\n",
       "      <td>2016</td>\n",
       "      <td>8</td>\n",
       "    </tr>\n",
       "    <tr>\n",
       "      <th>5960</th>\n",
       "      <td>Hyundai i10</td>\n",
       "      <td>2016</td>\n",
       "      <td>8</td>\n",
       "    </tr>\n",
       "  </tbody>\n",
       "</table>\n",
       "<p>5889 rows × 3 columns</p>\n",
       "</div>"
      ],
      "text/plain": [
       "                         Name  Year  Age\n",
       "0            Mahindra Scorpio  2012   12\n",
       "1               Maruti Baleno  2018    6\n",
       "2               Mahindra Xylo  2013   11\n",
       "3               Hyundai Grand  2014   10\n",
       "4               Toyota Innova  2011   13\n",
       "...                       ...   ...  ...\n",
       "5956              Honda Civic  2011   13\n",
       "5957              Hyundai i20  2013   11\n",
       "5958             Maruti Swift  2016    8\n",
       "5959  Mercedes-Benz SLK-Class  2016    8\n",
       "5960              Hyundai i10  2016    8\n",
       "\n",
       "[5889 rows x 3 columns]"
      ]
     },
     "execution_count": 13,
     "metadata": {},
     "output_type": "execute_result"
    }
   ],
   "source": [
    "from datetime import datetime\n",
    "\n",
    "# fungsi perhitungan umur\n",
    "def hitung_umur(tahun):\n",
    "    tahun_ini = datetime.now().year\n",
    "    umur = tahun_ini - int(tahun)\n",
    "    return umur\n",
    "\n",
    "# Menambahkan kolom umur ke DataFrame\n",
    "df['Age'] = df['Year'].apply(hitung_umur)\n",
    "\n",
    "# Menampilkan DataFrame dengan kolom umur\n",
    "df[['Name','Year', 'Age']]"
   ]
  },
  {
   "cell_type": "code",
   "execution_count": 14,
   "id": "e74edd10",
   "metadata": {},
   "outputs": [
    {
     "name": "stdout",
     "output_type": "stream",
     "text": [
      "[1998. 2005. 2012. 2019.]\n"
     ]
    }
   ],
   "source": [
    "bin = np.linspace(min(df['Year']), max(df['Year']), 4)\n",
    "print(bin)"
   ]
  },
  {
   "cell_type": "code",
   "execution_count": 15,
   "id": "b8590fc0",
   "metadata": {},
   "outputs": [
    {
     "name": "stderr",
     "output_type": "stream",
     "text": [
      "C:\\Users\\Lenovo\\AppData\\Local\\Temp\\ipykernel_8816\\100118203.py:1: SettingWithCopyWarning: \n",
      "A value is trying to be set on a copy of a slice from a DataFrame.\n",
      "Try using .loc[row_indexer,col_indexer] = value instead\n",
      "\n",
      "See the caveats in the documentation: https://pandas.pydata.org/pandas-docs/stable/user_guide/indexing.html#returning-a-view-versus-a-copy\n",
      "  df['Year Quarter'] = pd.cut(df['Year'], bins=bin, labels=['Quarter 1', 'Quarter 2', 'Quarter 3'])\n"
     ]
    },
    {
     "data": {
      "text/html": [
       "<div>\n",
       "<style scoped>\n",
       "    .dataframe tbody tr th:only-of-type {\n",
       "        vertical-align: middle;\n",
       "    }\n",
       "\n",
       "    .dataframe tbody tr th {\n",
       "        vertical-align: top;\n",
       "    }\n",
       "\n",
       "    .dataframe thead th {\n",
       "        text-align: right;\n",
       "    }\n",
       "</style>\n",
       "<table border=\"1\" class=\"dataframe\">\n",
       "  <thead>\n",
       "    <tr style=\"text-align: right;\">\n",
       "      <th></th>\n",
       "      <th>Name</th>\n",
       "      <th>Location</th>\n",
       "      <th>Year</th>\n",
       "      <th>Kilometers_Driven</th>\n",
       "      <th>Fuel_Type</th>\n",
       "      <th>Transmission</th>\n",
       "      <th>Owner_Type</th>\n",
       "      <th>Mileage</th>\n",
       "      <th>Engine</th>\n",
       "      <th>Power</th>\n",
       "      <th>Colour</th>\n",
       "      <th>Seats</th>\n",
       "      <th>No. of Doors</th>\n",
       "      <th>New_Price</th>\n",
       "      <th>Price</th>\n",
       "      <th>Age</th>\n",
       "      <th>Year Quarter</th>\n",
       "    </tr>\n",
       "  </thead>\n",
       "  <tbody>\n",
       "    <tr>\n",
       "      <th>0</th>\n",
       "      <td>Mahindra Scorpio</td>\n",
       "      <td>Pune</td>\n",
       "      <td>2012</td>\n",
       "      <td>99000.0</td>\n",
       "      <td>Diesel</td>\n",
       "      <td>Manual</td>\n",
       "      <td>Third</td>\n",
       "      <td>12.05</td>\n",
       "      <td>2179.0</td>\n",
       "      <td>120.0</td>\n",
       "      <td>Black/Silver</td>\n",
       "      <td>8.0</td>\n",
       "      <td>5.0</td>\n",
       "      <td>NaN</td>\n",
       "      <td>6.00</td>\n",
       "      <td>12</td>\n",
       "      <td>Quarter 2</td>\n",
       "    </tr>\n",
       "    <tr>\n",
       "      <th>1</th>\n",
       "      <td>Maruti Baleno</td>\n",
       "      <td>Kochi</td>\n",
       "      <td>2018</td>\n",
       "      <td>18678.0</td>\n",
       "      <td>Petrol</td>\n",
       "      <td>Manual</td>\n",
       "      <td>First</td>\n",
       "      <td>21.10</td>\n",
       "      <td>998.0</td>\n",
       "      <td>100.0</td>\n",
       "      <td>Others</td>\n",
       "      <td>5.0</td>\n",
       "      <td>4.0</td>\n",
       "      <td>NaN</td>\n",
       "      <td>8.32</td>\n",
       "      <td>6</td>\n",
       "      <td>Quarter 3</td>\n",
       "    </tr>\n",
       "    <tr>\n",
       "      <th>2</th>\n",
       "      <td>Mahindra Xylo</td>\n",
       "      <td>Bangalore</td>\n",
       "      <td>2013</td>\n",
       "      <td>197000.0</td>\n",
       "      <td>Diesel</td>\n",
       "      <td>Manual</td>\n",
       "      <td>First</td>\n",
       "      <td>11.68</td>\n",
       "      <td>2498.0</td>\n",
       "      <td>112.0</td>\n",
       "      <td>White</td>\n",
       "      <td>7.0</td>\n",
       "      <td>5.0</td>\n",
       "      <td>NaN</td>\n",
       "      <td>4.00</td>\n",
       "      <td>11</td>\n",
       "      <td>Quarter 3</td>\n",
       "    </tr>\n",
       "    <tr>\n",
       "      <th>3</th>\n",
       "      <td>Hyundai Grand</td>\n",
       "      <td>Delhi</td>\n",
       "      <td>2014</td>\n",
       "      <td>45000.0</td>\n",
       "      <td>Diesel</td>\n",
       "      <td>Manual</td>\n",
       "      <td>First</td>\n",
       "      <td>24.00</td>\n",
       "      <td>1120.0</td>\n",
       "      <td>70.0</td>\n",
       "      <td>White</td>\n",
       "      <td>5.0</td>\n",
       "      <td>4.0</td>\n",
       "      <td>NaN</td>\n",
       "      <td>3.49</td>\n",
       "      <td>10</td>\n",
       "      <td>Quarter 3</td>\n",
       "    </tr>\n",
       "    <tr>\n",
       "      <th>4</th>\n",
       "      <td>Toyota Innova</td>\n",
       "      <td>Delhi</td>\n",
       "      <td>2011</td>\n",
       "      <td>65000.0</td>\n",
       "      <td>Diesel</td>\n",
       "      <td>Manual</td>\n",
       "      <td>First</td>\n",
       "      <td>12.80</td>\n",
       "      <td>2494.0</td>\n",
       "      <td>102.0</td>\n",
       "      <td>Others</td>\n",
       "      <td>8.0</td>\n",
       "      <td>5.0</td>\n",
       "      <td>NaN</td>\n",
       "      <td>6.40</td>\n",
       "      <td>13</td>\n",
       "      <td>Quarter 2</td>\n",
       "    </tr>\n",
       "  </tbody>\n",
       "</table>\n",
       "</div>"
      ],
      "text/plain": [
       "               Name   Location  Year  Kilometers_Driven Fuel_Type  \\\n",
       "0  Mahindra Scorpio       Pune  2012            99000.0    Diesel   \n",
       "1     Maruti Baleno      Kochi  2018            18678.0    Petrol   \n",
       "2     Mahindra Xylo  Bangalore  2013           197000.0    Diesel   \n",
       "3     Hyundai Grand      Delhi  2014            45000.0    Diesel   \n",
       "4     Toyota Innova      Delhi  2011            65000.0    Diesel   \n",
       "\n",
       "  Transmission Owner_Type  Mileage  Engine  Power        Colour  Seats  \\\n",
       "0       Manual      Third    12.05  2179.0  120.0  Black/Silver    8.0   \n",
       "1       Manual      First    21.10   998.0  100.0        Others    5.0   \n",
       "2       Manual      First    11.68  2498.0  112.0         White    7.0   \n",
       "3       Manual      First    24.00  1120.0   70.0         White    5.0   \n",
       "4       Manual      First    12.80  2494.0  102.0        Others    8.0   \n",
       "\n",
       "   No. of Doors New_Price  Price  Age Year Quarter  \n",
       "0           5.0       NaN   6.00   12    Quarter 2  \n",
       "1           4.0       NaN   8.32    6    Quarter 3  \n",
       "2           5.0       NaN   4.00   11    Quarter 3  \n",
       "3           4.0       NaN   3.49   10    Quarter 3  \n",
       "4           5.0       NaN   6.40   13    Quarter 2  "
      ]
     },
     "execution_count": 15,
     "metadata": {},
     "output_type": "execute_result"
    }
   ],
   "source": [
    "df['Year Quarter'] = pd.cut(df['Year'], bins=bin, labels=['Quarter 1', 'Quarter 2', 'Quarter 3'])\n",
    "df.head()"
   ]
  },
  {
   "cell_type": "markdown",
   "id": "b2ce2cbe",
   "metadata": {},
   "source": [
    "**NORMALIZATION**"
   ]
  },
  {
   "cell_type": "code",
   "execution_count": 16,
   "id": "903bd1fa",
   "metadata": {},
   "outputs": [],
   "source": [
    "scaler = MinMaxScaler()"
   ]
  },
  {
   "cell_type": "code",
   "execution_count": 17,
   "id": "6b46f268",
   "metadata": {},
   "outputs": [],
   "source": [
    "df_normalize = df[['Age','Kilometers_Driven','Mileage','Engine','Power','Seats','No. of Doors','Price']]"
   ]
  },
  {
   "cell_type": "code",
   "execution_count": 18,
   "id": "9afc6cfd",
   "metadata": {},
   "outputs": [
    {
     "data": {
      "text/html": [
       "<div>\n",
       "<style scoped>\n",
       "    .dataframe tbody tr th:only-of-type {\n",
       "        vertical-align: middle;\n",
       "    }\n",
       "\n",
       "    .dataframe tbody tr th {\n",
       "        vertical-align: top;\n",
       "    }\n",
       "\n",
       "    .dataframe thead th {\n",
       "        text-align: right;\n",
       "    }\n",
       "</style>\n",
       "<table border=\"1\" class=\"dataframe\">\n",
       "  <thead>\n",
       "    <tr style=\"text-align: right;\">\n",
       "      <th></th>\n",
       "      <th>Age</th>\n",
       "      <th>Kilometers_Driven</th>\n",
       "      <th>Mileage</th>\n",
       "      <th>Engine</th>\n",
       "      <th>Power</th>\n",
       "      <th>Seats</th>\n",
       "      <th>No. of Doors</th>\n",
       "      <th>Price</th>\n",
       "    </tr>\n",
       "  </thead>\n",
       "  <tbody>\n",
       "    <tr>\n",
       "      <th>0</th>\n",
       "      <td>12</td>\n",
       "      <td>99000.0</td>\n",
       "      <td>12.05</td>\n",
       "      <td>2179.0</td>\n",
       "      <td>120.0</td>\n",
       "      <td>8.0</td>\n",
       "      <td>5.0</td>\n",
       "      <td>6.00</td>\n",
       "    </tr>\n",
       "    <tr>\n",
       "      <th>1</th>\n",
       "      <td>6</td>\n",
       "      <td>18678.0</td>\n",
       "      <td>21.10</td>\n",
       "      <td>998.0</td>\n",
       "      <td>100.0</td>\n",
       "      <td>5.0</td>\n",
       "      <td>4.0</td>\n",
       "      <td>8.32</td>\n",
       "    </tr>\n",
       "    <tr>\n",
       "      <th>2</th>\n",
       "      <td>11</td>\n",
       "      <td>197000.0</td>\n",
       "      <td>11.68</td>\n",
       "      <td>2498.0</td>\n",
       "      <td>112.0</td>\n",
       "      <td>7.0</td>\n",
       "      <td>5.0</td>\n",
       "      <td>4.00</td>\n",
       "    </tr>\n",
       "    <tr>\n",
       "      <th>3</th>\n",
       "      <td>10</td>\n",
       "      <td>45000.0</td>\n",
       "      <td>24.00</td>\n",
       "      <td>1120.0</td>\n",
       "      <td>70.0</td>\n",
       "      <td>5.0</td>\n",
       "      <td>4.0</td>\n",
       "      <td>3.49</td>\n",
       "    </tr>\n",
       "    <tr>\n",
       "      <th>4</th>\n",
       "      <td>13</td>\n",
       "      <td>65000.0</td>\n",
       "      <td>12.80</td>\n",
       "      <td>2494.0</td>\n",
       "      <td>102.0</td>\n",
       "      <td>8.0</td>\n",
       "      <td>5.0</td>\n",
       "      <td>6.40</td>\n",
       "    </tr>\n",
       "  </tbody>\n",
       "</table>\n",
       "</div>"
      ],
      "text/plain": [
       "   Age  Kilometers_Driven  Mileage  Engine  Power  Seats  No. of Doors  Price\n",
       "0   12            99000.0    12.05  2179.0  120.0    8.0           5.0   6.00\n",
       "1    6            18678.0    21.10   998.0  100.0    5.0           4.0   8.32\n",
       "2   11           197000.0    11.68  2498.0  112.0    7.0           5.0   4.00\n",
       "3   10            45000.0    24.00  1120.0   70.0    5.0           4.0   3.49\n",
       "4   13            65000.0    12.80  2494.0  102.0    8.0           5.0   6.40"
      ]
     },
     "execution_count": 18,
     "metadata": {},
     "output_type": "execute_result"
    }
   ],
   "source": [
    "df_normalize.head()"
   ]
  },
  {
   "cell_type": "code",
   "execution_count": 19,
   "id": "dde6d6b0",
   "metadata": {},
   "outputs": [],
   "source": [
    "df_normalize = pd.DataFrame(scaler.fit_transform(df_normalize), columns=df_normalize.columns)"
   ]
  },
  {
   "cell_type": "code",
   "execution_count": 20,
   "id": "b7fec9d4",
   "metadata": {
    "scrolled": true
   },
   "outputs": [
    {
     "data": {
      "text/html": [
       "<div>\n",
       "<style scoped>\n",
       "    .dataframe tbody tr th:only-of-type {\n",
       "        vertical-align: middle;\n",
       "    }\n",
       "\n",
       "    .dataframe tbody tr th {\n",
       "        vertical-align: top;\n",
       "    }\n",
       "\n",
       "    .dataframe thead th {\n",
       "        text-align: right;\n",
       "    }\n",
       "</style>\n",
       "<table border=\"1\" class=\"dataframe\">\n",
       "  <thead>\n",
       "    <tr style=\"text-align: right;\">\n",
       "      <th></th>\n",
       "      <th>Age</th>\n",
       "      <th>Kilometers_Driven</th>\n",
       "      <th>Mileage</th>\n",
       "      <th>Engine</th>\n",
       "      <th>Power</th>\n",
       "      <th>Seats</th>\n",
       "      <th>No. of Doors</th>\n",
       "      <th>Price</th>\n",
       "    </tr>\n",
       "  </thead>\n",
       "  <tbody>\n",
       "    <tr>\n",
       "      <th>0</th>\n",
       "      <td>0.333333</td>\n",
       "      <td>0.015205</td>\n",
       "      <td>0.359273</td>\n",
       "      <td>0.289356</td>\n",
       "      <td>0.163180</td>\n",
       "      <td>0.750</td>\n",
       "      <td>1.000000</td>\n",
       "      <td>0.034846</td>\n",
       "    </tr>\n",
       "    <tr>\n",
       "      <th>1</th>\n",
       "      <td>0.047619</td>\n",
       "      <td>0.002847</td>\n",
       "      <td>0.629100</td>\n",
       "      <td>0.069594</td>\n",
       "      <td>0.125143</td>\n",
       "      <td>0.375</td>\n",
       "      <td>0.666667</td>\n",
       "      <td>0.049386</td>\n",
       "    </tr>\n",
       "    <tr>\n",
       "      <th>2</th>\n",
       "      <td>0.285714</td>\n",
       "      <td>0.030282</td>\n",
       "      <td>0.348241</td>\n",
       "      <td>0.348716</td>\n",
       "      <td>0.147965</td>\n",
       "      <td>0.625</td>\n",
       "      <td>1.000000</td>\n",
       "      <td>0.022311</td>\n",
       "    </tr>\n",
       "    <tr>\n",
       "      <th>3</th>\n",
       "      <td>0.238095</td>\n",
       "      <td>0.006897</td>\n",
       "      <td>0.715564</td>\n",
       "      <td>0.092296</td>\n",
       "      <td>0.068087</td>\n",
       "      <td>0.375</td>\n",
       "      <td>0.666667</td>\n",
       "      <td>0.019115</td>\n",
       "    </tr>\n",
       "    <tr>\n",
       "      <th>4</th>\n",
       "      <td>0.380952</td>\n",
       "      <td>0.009974</td>\n",
       "      <td>0.381634</td>\n",
       "      <td>0.347972</td>\n",
       "      <td>0.128946</td>\n",
       "      <td>0.750</td>\n",
       "      <td>1.000000</td>\n",
       "      <td>0.037353</td>\n",
       "    </tr>\n",
       "  </tbody>\n",
       "</table>\n",
       "</div>"
      ],
      "text/plain": [
       "        Age  Kilometers_Driven   Mileage    Engine     Power  Seats  \\\n",
       "0  0.333333           0.015205  0.359273  0.289356  0.163180  0.750   \n",
       "1  0.047619           0.002847  0.629100  0.069594  0.125143  0.375   \n",
       "2  0.285714           0.030282  0.348241  0.348716  0.147965  0.625   \n",
       "3  0.238095           0.006897  0.715564  0.092296  0.068087  0.375   \n",
       "4  0.380952           0.009974  0.381634  0.347972  0.128946  0.750   \n",
       "\n",
       "   No. of Doors     Price  \n",
       "0      1.000000  0.034846  \n",
       "1      0.666667  0.049386  \n",
       "2      1.000000  0.022311  \n",
       "3      0.666667  0.019115  \n",
       "4      1.000000  0.037353  "
      ]
     },
     "execution_count": 20,
     "metadata": {},
     "output_type": "execute_result"
    }
   ],
   "source": [
    "df_normalize.head()"
   ]
  },
  {
   "cell_type": "markdown",
   "id": "65be543a",
   "metadata": {},
   "source": [
    "**HANDLING OUTLIERS**"
   ]
  },
  {
   "cell_type": "code",
   "execution_count": 21,
   "id": "a284c500",
   "metadata": {},
   "outputs": [
    {
     "data": {
      "text/plain": [
       "<Axes: >"
      ]
     },
     "execution_count": 21,
     "metadata": {},
     "output_type": "execute_result"
    },
    {
     "data": {
      "image/png": "[encoded data removed]",
      "text/plain": [
       "<Figure size 1500x500 with 1 Axes>"
      ]
     },
     "metadata": {},
     "output_type": "display_data"
    }
   ],
   "source": [
    "fig, ax = plt.subplots(figsize=(15,5))\n",
    "sns.boxplot(data=df)"
   ]
  },
  {
   "cell_type": "code",
   "execution_count": 22,
   "id": "d41ad558",
   "metadata": {},
   "outputs": [
    {
     "data": {
      "text/html": [
       "<div>\n",
       "<style scoped>\n",
       "    .dataframe tbody tr th:only-of-type {\n",
       "        vertical-align: middle;\n",
       "    }\n",
       "\n",
       "    .dataframe tbody tr th {\n",
       "        vertical-align: top;\n",
       "    }\n",
       "\n",
       "    .dataframe thead th {\n",
       "        text-align: right;\n",
       "    }\n",
       "</style>\n",
       "<table border=\"1\" class=\"dataframe\">\n",
       "  <thead>\n",
       "    <tr style=\"text-align: right;\">\n",
       "      <th></th>\n",
       "      <th>Year</th>\n",
       "      <th>Kilometers_Driven</th>\n",
       "      <th>Mileage</th>\n",
       "      <th>Engine</th>\n",
       "      <th>Power</th>\n",
       "      <th>Seats</th>\n",
       "      <th>No. of Doors</th>\n",
       "      <th>Price</th>\n",
       "      <th>Age</th>\n",
       "    </tr>\n",
       "  </thead>\n",
       "  <tbody>\n",
       "    <tr>\n",
       "      <th>0</th>\n",
       "      <td>2012</td>\n",
       "      <td>99000.0</td>\n",
       "      <td>12.05</td>\n",
       "      <td>2179.0</td>\n",
       "      <td>120.0</td>\n",
       "      <td>8.0</td>\n",
       "      <td>5.0</td>\n",
       "      <td>6.00</td>\n",
       "      <td>12</td>\n",
       "    </tr>\n",
       "    <tr>\n",
       "      <th>1</th>\n",
       "      <td>2018</td>\n",
       "      <td>18678.0</td>\n",
       "      <td>21.10</td>\n",
       "      <td>998.0</td>\n",
       "      <td>100.0</td>\n",
       "      <td>5.0</td>\n",
       "      <td>4.0</td>\n",
       "      <td>8.32</td>\n",
       "      <td>6</td>\n",
       "    </tr>\n",
       "    <tr>\n",
       "      <th>2</th>\n",
       "      <td>2013</td>\n",
       "      <td>197000.0</td>\n",
       "      <td>11.68</td>\n",
       "      <td>2498.0</td>\n",
       "      <td>112.0</td>\n",
       "      <td>7.0</td>\n",
       "      <td>5.0</td>\n",
       "      <td>4.00</td>\n",
       "      <td>11</td>\n",
       "    </tr>\n",
       "    <tr>\n",
       "      <th>3</th>\n",
       "      <td>2014</td>\n",
       "      <td>45000.0</td>\n",
       "      <td>24.00</td>\n",
       "      <td>1120.0</td>\n",
       "      <td>70.0</td>\n",
       "      <td>5.0</td>\n",
       "      <td>4.0</td>\n",
       "      <td>3.49</td>\n",
       "      <td>10</td>\n",
       "    </tr>\n",
       "    <tr>\n",
       "      <th>4</th>\n",
       "      <td>2011</td>\n",
       "      <td>65000.0</td>\n",
       "      <td>12.80</td>\n",
       "      <td>2494.0</td>\n",
       "      <td>102.0</td>\n",
       "      <td>8.0</td>\n",
       "      <td>5.0</td>\n",
       "      <td>6.40</td>\n",
       "      <td>13</td>\n",
       "    </tr>\n",
       "    <tr>\n",
       "      <th>...</th>\n",
       "      <td>...</td>\n",
       "      <td>...</td>\n",
       "      <td>...</td>\n",
       "      <td>...</td>\n",
       "      <td>...</td>\n",
       "      <td>...</td>\n",
       "      <td>...</td>\n",
       "      <td>...</td>\n",
       "      <td>...</td>\n",
       "    </tr>\n",
       "    <tr>\n",
       "      <th>5956</th>\n",
       "      <td>2011</td>\n",
       "      <td>47000.0</td>\n",
       "      <td>13.90</td>\n",
       "      <td>1799.0</td>\n",
       "      <td>130.3</td>\n",
       "      <td>5.0</td>\n",
       "      <td>4.0</td>\n",
       "      <td>4.50</td>\n",
       "      <td>13</td>\n",
       "    </tr>\n",
       "    <tr>\n",
       "      <th>5957</th>\n",
       "      <td>2013</td>\n",
       "      <td>63777.0</td>\n",
       "      <td>18.50</td>\n",
       "      <td>1197.0</td>\n",
       "      <td>82.9</td>\n",
       "      <td>5.0</td>\n",
       "      <td>4.0</td>\n",
       "      <td>3.67</td>\n",
       "      <td>11</td>\n",
       "    </tr>\n",
       "    <tr>\n",
       "      <th>5958</th>\n",
       "      <td>2016</td>\n",
       "      <td>37806.0</td>\n",
       "      <td>20.40</td>\n",
       "      <td>1197.0</td>\n",
       "      <td>81.8</td>\n",
       "      <td>5.0</td>\n",
       "      <td>4.0</td>\n",
       "      <td>5.20</td>\n",
       "      <td>8</td>\n",
       "    </tr>\n",
       "    <tr>\n",
       "      <th>5959</th>\n",
       "      <td>2016</td>\n",
       "      <td>22732.0</td>\n",
       "      <td>18.10</td>\n",
       "      <td>3498.0</td>\n",
       "      <td>306.0</td>\n",
       "      <td>2.0</td>\n",
       "      <td>2.0</td>\n",
       "      <td>55.54</td>\n",
       "      <td>8</td>\n",
       "    </tr>\n",
       "    <tr>\n",
       "      <th>5960</th>\n",
       "      <td>2016</td>\n",
       "      <td>7000.0</td>\n",
       "      <td>20.36</td>\n",
       "      <td>1197.0</td>\n",
       "      <td>78.9</td>\n",
       "      <td>5.0</td>\n",
       "      <td>4.0</td>\n",
       "      <td>3.60</td>\n",
       "      <td>8</td>\n",
       "    </tr>\n",
       "  </tbody>\n",
       "</table>\n",
       "<p>5889 rows × 9 columns</p>\n",
       "</div>"
      ],
      "text/plain": [
       "      Year  Kilometers_Driven  Mileage  Engine  Power  Seats  No. of Doors  \\\n",
       "0     2012            99000.0    12.05  2179.0  120.0    8.0           5.0   \n",
       "1     2018            18678.0    21.10   998.0  100.0    5.0           4.0   \n",
       "2     2013           197000.0    11.68  2498.0  112.0    7.0           5.0   \n",
       "3     2014            45000.0    24.00  1120.0   70.0    5.0           4.0   \n",
       "4     2011            65000.0    12.80  2494.0  102.0    8.0           5.0   \n",
       "...    ...                ...      ...     ...    ...    ...           ...   \n",
       "5956  2011            47000.0    13.90  1799.0  130.3    5.0           4.0   \n",
       "5957  2013            63777.0    18.50  1197.0   82.9    5.0           4.0   \n",
       "5958  2016            37806.0    20.40  1197.0   81.8    5.0           4.0   \n",
       "5959  2016            22732.0    18.10  3498.0  306.0    2.0           2.0   \n",
       "5960  2016             7000.0    20.36  1197.0   78.9    5.0           4.0   \n",
       "\n",
       "      Price  Age  \n",
       "0      6.00   12  \n",
       "1      8.32    6  \n",
       "2      4.00   11  \n",
       "3      3.49   10  \n",
       "4      6.40   13  \n",
       "...     ...  ...  \n",
       "5956   4.50   13  \n",
       "5957   3.67   11  \n",
       "5958   5.20    8  \n",
       "5959  55.54    8  \n",
       "5960   3.60    8  \n",
       "\n",
       "[5889 rows x 9 columns]"
      ]
     },
     "execution_count": 22,
     "metadata": {},
     "output_type": "execute_result"
    }
   ],
   "source": [
    "df_outlier = df.select_dtypes(include=['float64','int'])\n",
    "df_outlier"
   ]
  },
  {
   "cell_type": "code",
   "execution_count": 23,
   "id": "8c41e176",
   "metadata": {},
   "outputs": [
    {
     "data": {
      "text/plain": [
       "(Year                  2012.000\n",
       " Kilometers_Driven    33855.000\n",
       " Mileage                 15.200\n",
       " Engine                1198.000\n",
       " Power                   75.235\n",
       " Seats                    5.000\n",
       " No. of Doors             4.000\n",
       " Price                    3.500\n",
       " Age                      8.000\n",
       " Name: 0.25, dtype: float64,\n",
       " Year                  2016.0\n",
       " Kilometers_Driven    73000.0\n",
       " Mileage                 21.1\n",
       " Engine                1984.0\n",
       " Power                  138.1\n",
       " Seats                    5.0\n",
       " No. of Doors             4.0\n",
       " Price                   10.0\n",
       " Age                     12.0\n",
       " Name: 0.75, dtype: float64)"
      ]
     },
     "execution_count": 23,
     "metadata": {},
     "output_type": "execute_result"
    }
   ],
   "source": [
    "Q1 = df_outlier.quantile(0.25)\n",
    "Q3 = df_outlier.quantile(0.75)\n",
    "\n",
    "Q1, Q3"
   ]
  },
  {
   "cell_type": "code",
   "execution_count": 24,
   "id": "72094848",
   "metadata": {},
   "outputs": [
    {
     "data": {
      "text/plain": [
       "Year                     4.000\n",
       "Kilometers_Driven    39145.000\n",
       "Mileage                  5.900\n",
       "Engine                 786.000\n",
       "Power                   62.865\n",
       "Seats                    0.000\n",
       "No. of Doors             0.000\n",
       "Price                    6.500\n",
       "Age                      4.000\n",
       "dtype: float64"
      ]
     },
     "execution_count": 24,
     "metadata": {},
     "output_type": "execute_result"
    }
   ],
   "source": [
    "IQR = Q3 - Q1\n",
    "IQR"
   ]
  },
  {
   "cell_type": "code",
   "execution_count": 25,
   "id": "5d237a49",
   "metadata": {},
   "outputs": [
    {
     "data": {
      "text/plain": [
       "(Year                  2006.0000\n",
       " Kilometers_Driven   -24862.5000\n",
       " Mileage                  6.3500\n",
       " Engine                  19.0000\n",
       " Power                  -19.0625\n",
       " Seats                    5.0000\n",
       " No. of Doors             4.0000\n",
       " Price                   -6.2500\n",
       " Age                      2.0000\n",
       " dtype: float64,\n",
       " Year                   2022.0000\n",
       " Kilometers_Driven    131717.5000\n",
       " Mileage                  29.9500\n",
       " Engine                 3163.0000\n",
       " Power                   232.3975\n",
       " Seats                     5.0000\n",
       " No. of Doors              4.0000\n",
       " Price                    19.7500\n",
       " Age                      18.0000\n",
       " dtype: float64)"
      ]
     },
     "execution_count": 25,
     "metadata": {},
     "output_type": "execute_result"
    }
   ],
   "source": [
    "lower_limit = Q1 - 1.5*IQR\n",
    "upper_limit = Q3 + 1.5*IQR\n",
    "\n",
    "lower_limit, upper_limit"
   ]
  },
  {
   "cell_type": "code",
   "execution_count": 26,
   "id": "5a567dcd",
   "metadata": {},
   "outputs": [
    {
     "data": {
      "text/html": [
       "<div>\n",
       "<style scoped>\n",
       "    .dataframe tbody tr th:only-of-type {\n",
       "        vertical-align: middle;\n",
       "    }\n",
       "\n",
       "    .dataframe tbody tr th {\n",
       "        vertical-align: top;\n",
       "    }\n",
       "\n",
       "    .dataframe thead th {\n",
       "        text-align: right;\n",
       "    }\n",
       "</style>\n",
       "<table border=\"1\" class=\"dataframe\">\n",
       "  <thead>\n",
       "    <tr style=\"text-align: right;\">\n",
       "      <th></th>\n",
       "      <th>Year</th>\n",
       "      <th>Kilometers_Driven</th>\n",
       "      <th>Mileage</th>\n",
       "      <th>Engine</th>\n",
       "      <th>Power</th>\n",
       "      <th>Seats</th>\n",
       "      <th>No. of Doors</th>\n",
       "      <th>Price</th>\n",
       "      <th>Age</th>\n",
       "    </tr>\n",
       "  </thead>\n",
       "  <tbody>\n",
       "    <tr>\n",
       "      <th>0</th>\n",
       "      <td>False</td>\n",
       "      <td>False</td>\n",
       "      <td>False</td>\n",
       "      <td>False</td>\n",
       "      <td>False</td>\n",
       "      <td>True</td>\n",
       "      <td>True</td>\n",
       "      <td>False</td>\n",
       "      <td>False</td>\n",
       "    </tr>\n",
       "    <tr>\n",
       "      <th>1</th>\n",
       "      <td>False</td>\n",
       "      <td>False</td>\n",
       "      <td>False</td>\n",
       "      <td>False</td>\n",
       "      <td>False</td>\n",
       "      <td>False</td>\n",
       "      <td>False</td>\n",
       "      <td>False</td>\n",
       "      <td>False</td>\n",
       "    </tr>\n",
       "    <tr>\n",
       "      <th>2</th>\n",
       "      <td>False</td>\n",
       "      <td>True</td>\n",
       "      <td>False</td>\n",
       "      <td>False</td>\n",
       "      <td>False</td>\n",
       "      <td>True</td>\n",
       "      <td>True</td>\n",
       "      <td>False</td>\n",
       "      <td>False</td>\n",
       "    </tr>\n",
       "    <tr>\n",
       "      <th>3</th>\n",
       "      <td>False</td>\n",
       "      <td>False</td>\n",
       "      <td>False</td>\n",
       "      <td>False</td>\n",
       "      <td>False</td>\n",
       "      <td>False</td>\n",
       "      <td>False</td>\n",
       "      <td>False</td>\n",
       "      <td>False</td>\n",
       "    </tr>\n",
       "    <tr>\n",
       "      <th>4</th>\n",
       "      <td>False</td>\n",
       "      <td>False</td>\n",
       "      <td>False</td>\n",
       "      <td>False</td>\n",
       "      <td>False</td>\n",
       "      <td>True</td>\n",
       "      <td>True</td>\n",
       "      <td>False</td>\n",
       "      <td>False</td>\n",
       "    </tr>\n",
       "    <tr>\n",
       "      <th>...</th>\n",
       "      <td>...</td>\n",
       "      <td>...</td>\n",
       "      <td>...</td>\n",
       "      <td>...</td>\n",
       "      <td>...</td>\n",
       "      <td>...</td>\n",
       "      <td>...</td>\n",
       "      <td>...</td>\n",
       "      <td>...</td>\n",
       "    </tr>\n",
       "    <tr>\n",
       "      <th>5956</th>\n",
       "      <td>False</td>\n",
       "      <td>False</td>\n",
       "      <td>False</td>\n",
       "      <td>False</td>\n",
       "      <td>False</td>\n",
       "      <td>False</td>\n",
       "      <td>False</td>\n",
       "      <td>False</td>\n",
       "      <td>False</td>\n",
       "    </tr>\n",
       "    <tr>\n",
       "      <th>5957</th>\n",
       "      <td>False</td>\n",
       "      <td>False</td>\n",
       "      <td>False</td>\n",
       "      <td>False</td>\n",
       "      <td>False</td>\n",
       "      <td>False</td>\n",
       "      <td>False</td>\n",
       "      <td>False</td>\n",
       "      <td>False</td>\n",
       "    </tr>\n",
       "    <tr>\n",
       "      <th>5958</th>\n",
       "      <td>False</td>\n",
       "      <td>False</td>\n",
       "      <td>False</td>\n",
       "      <td>False</td>\n",
       "      <td>False</td>\n",
       "      <td>False</td>\n",
       "      <td>False</td>\n",
       "      <td>False</td>\n",
       "      <td>False</td>\n",
       "    </tr>\n",
       "    <tr>\n",
       "      <th>5959</th>\n",
       "      <td>False</td>\n",
       "      <td>False</td>\n",
       "      <td>False</td>\n",
       "      <td>True</td>\n",
       "      <td>True</td>\n",
       "      <td>True</td>\n",
       "      <td>True</td>\n",
       "      <td>True</td>\n",
       "      <td>False</td>\n",
       "    </tr>\n",
       "    <tr>\n",
       "      <th>5960</th>\n",
       "      <td>False</td>\n",
       "      <td>False</td>\n",
       "      <td>False</td>\n",
       "      <td>False</td>\n",
       "      <td>False</td>\n",
       "      <td>False</td>\n",
       "      <td>False</td>\n",
       "      <td>False</td>\n",
       "      <td>False</td>\n",
       "    </tr>\n",
       "  </tbody>\n",
       "</table>\n",
       "<p>5889 rows × 9 columns</p>\n",
       "</div>"
      ],
      "text/plain": [
       "       Year  Kilometers_Driven  Mileage  Engine  Power  Seats  No. of Doors  \\\n",
       "0     False              False    False   False  False   True          True   \n",
       "1     False              False    False   False  False  False         False   \n",
       "2     False               True    False   False  False   True          True   \n",
       "3     False              False    False   False  False  False         False   \n",
       "4     False              False    False   False  False   True          True   \n",
       "...     ...                ...      ...     ...    ...    ...           ...   \n",
       "5956  False              False    False   False  False  False         False   \n",
       "5957  False              False    False   False  False  False         False   \n",
       "5958  False              False    False   False  False  False         False   \n",
       "5959  False              False    False    True   True   True          True   \n",
       "5960  False              False    False   False  False  False         False   \n",
       "\n",
       "      Price    Age  \n",
       "0     False  False  \n",
       "1     False  False  \n",
       "2     False  False  \n",
       "3     False  False  \n",
       "4     False  False  \n",
       "...     ...    ...  \n",
       "5956  False  False  \n",
       "5957  False  False  \n",
       "5958  False  False  \n",
       "5959   True  False  \n",
       "5960  False  False  \n",
       "\n",
       "[5889 rows x 9 columns]"
      ]
     },
     "execution_count": 26,
     "metadata": {},
     "output_type": "execute_result"
    }
   ],
   "source": [
    "outliers = ((df_outlier < lower_limit) | (df_outlier > upper_limit))\n",
    "outliers"
   ]
  },
  {
   "cell_type": "markdown",
   "id": "34489bef",
   "metadata": {},
   "source": [
    "'True' indicates that a value is considered an outlier"
   ]
  },
  {
   "cell_type": "code",
   "execution_count": 27,
   "id": "1701570b",
   "metadata": {},
   "outputs": [
    {
     "data": {
      "text/plain": [
       "3189"
      ]
     },
     "execution_count": 27,
     "metadata": {},
     "output_type": "execute_result"
    }
   ],
   "source": [
    "# Hitung jumlah nilai True pada dataframe outliers\n",
    "outliers[outliers == True].count().sum()"
   ]
  },
  {
   "cell_type": "code",
   "execution_count": 28,
   "id": "b9ed017e",
   "metadata": {},
   "outputs": [
    {
     "data": {
      "text/plain": [
       "<Axes: >"
      ]
     },
     "execution_count": 28,
     "metadata": {},
     "output_type": "execute_result"
    },
    {
     "data": {
      "image/png": "[encoded data removed]",
      "text/plain": [
       "<Figure size 1500x500 with 1 Axes>"
      ]
     },
     "metadata": {},
     "output_type": "display_data"
    }
   ],
   "source": [
    "fig, ax = plt.subplots(figsize=(15,5))\n",
    "sns.boxplot(data=outliers)"
   ]
  },
  {
   "cell_type": "markdown",
   "id": "467dc70a",
   "metadata": {},
   "source": [
    "**ENCODING**"
   ]
  },
  {
   "cell_type": "code",
   "execution_count": 29,
   "id": "c893aad7",
   "metadata": {},
   "outputs": [
    {
     "data": {
      "text/plain": [
       "array(['Third', 'First', 'Second', 'Fourth & Above'], dtype=object)"
      ]
     },
     "execution_count": 29,
     "metadata": {},
     "output_type": "execute_result"
    }
   ],
   "source": [
    "df['Owner_Type'].unique()"
   ]
  },
  {
   "cell_type": "code",
   "execution_count": 30,
   "id": "6f9be372",
   "metadata": {},
   "outputs": [
    {
     "data": {
      "text/plain": [
       "array(['Manual', 'Automatic'], dtype=object)"
      ]
     },
     "execution_count": 30,
     "metadata": {},
     "output_type": "execute_result"
    }
   ],
   "source": [
    "df['Transmission'].unique()"
   ]
  },
  {
   "cell_type": "code",
   "execution_count": 31,
   "id": "2badbe64",
   "metadata": {},
   "outputs": [
    {
     "name": "stderr",
     "output_type": "stream",
     "text": [
      "C:\\Users\\Lenovo\\AppData\\Local\\Temp\\ipykernel_8816\\614594080.py:3: SettingWithCopyWarning: \n",
      "A value is trying to be set on a copy of a slice from a DataFrame.\n",
      "Try using .loc[row_indexer,col_indexer] = value instead\n",
      "\n",
      "See the caveats in the documentation: https://pandas.pydata.org/pandas-docs/stable/user_guide/indexing.html#returning-a-view-versus-a-copy\n",
      "  df['Owner_Type'] = le_owner.transform(df['Owner_Type'])\n",
      "C:\\Users\\Lenovo\\AppData\\Local\\Temp\\ipykernel_8816\\614594080.py:7: SettingWithCopyWarning: \n",
      "A value is trying to be set on a copy of a slice from a DataFrame.\n",
      "Try using .loc[row_indexer,col_indexer] = value instead\n",
      "\n",
      "See the caveats in the documentation: https://pandas.pydata.org/pandas-docs/stable/user_guide/indexing.html#returning-a-view-versus-a-copy\n",
      "  df['Transmission'] = le_transmission.transform(df['Transmission'])\n"
     ]
    },
    {
     "data": {
      "text/html": [
       "<div>\n",
       "<style scoped>\n",
       "    .dataframe tbody tr th:only-of-type {\n",
       "        vertical-align: middle;\n",
       "    }\n",
       "\n",
       "    .dataframe tbody tr th {\n",
       "        vertical-align: top;\n",
       "    }\n",
       "\n",
       "    .dataframe thead th {\n",
       "        text-align: right;\n",
       "    }\n",
       "</style>\n",
       "<table border=\"1\" class=\"dataframe\">\n",
       "  <thead>\n",
       "    <tr style=\"text-align: right;\">\n",
       "      <th></th>\n",
       "      <th>Name</th>\n",
       "      <th>Location</th>\n",
       "      <th>Year</th>\n",
       "      <th>Kilometers_Driven</th>\n",
       "      <th>Fuel_Type</th>\n",
       "      <th>Transmission</th>\n",
       "      <th>Owner_Type</th>\n",
       "      <th>Mileage</th>\n",
       "      <th>Engine</th>\n",
       "      <th>Power</th>\n",
       "      <th>Colour</th>\n",
       "      <th>Seats</th>\n",
       "      <th>No. of Doors</th>\n",
       "      <th>New_Price</th>\n",
       "      <th>Price</th>\n",
       "      <th>Age</th>\n",
       "      <th>Year Quarter</th>\n",
       "    </tr>\n",
       "  </thead>\n",
       "  <tbody>\n",
       "    <tr>\n",
       "      <th>0</th>\n",
       "      <td>Mahindra Scorpio</td>\n",
       "      <td>Pune</td>\n",
       "      <td>2012</td>\n",
       "      <td>99000.0</td>\n",
       "      <td>Diesel</td>\n",
       "      <td>1</td>\n",
       "      <td>3</td>\n",
       "      <td>12.05</td>\n",
       "      <td>2179.0</td>\n",
       "      <td>120.0</td>\n",
       "      <td>Black/Silver</td>\n",
       "      <td>8.0</td>\n",
       "      <td>5.0</td>\n",
       "      <td>NaN</td>\n",
       "      <td>6.00</td>\n",
       "      <td>12</td>\n",
       "      <td>Quarter 2</td>\n",
       "    </tr>\n",
       "    <tr>\n",
       "      <th>1</th>\n",
       "      <td>Maruti Baleno</td>\n",
       "      <td>Kochi</td>\n",
       "      <td>2018</td>\n",
       "      <td>18678.0</td>\n",
       "      <td>Petrol</td>\n",
       "      <td>1</td>\n",
       "      <td>0</td>\n",
       "      <td>21.10</td>\n",
       "      <td>998.0</td>\n",
       "      <td>100.0</td>\n",
       "      <td>Others</td>\n",
       "      <td>5.0</td>\n",
       "      <td>4.0</td>\n",
       "      <td>NaN</td>\n",
       "      <td>8.32</td>\n",
       "      <td>6</td>\n",
       "      <td>Quarter 3</td>\n",
       "    </tr>\n",
       "    <tr>\n",
       "      <th>2</th>\n",
       "      <td>Mahindra Xylo</td>\n",
       "      <td>Bangalore</td>\n",
       "      <td>2013</td>\n",
       "      <td>197000.0</td>\n",
       "      <td>Diesel</td>\n",
       "      <td>1</td>\n",
       "      <td>0</td>\n",
       "      <td>11.68</td>\n",
       "      <td>2498.0</td>\n",
       "      <td>112.0</td>\n",
       "      <td>White</td>\n",
       "      <td>7.0</td>\n",
       "      <td>5.0</td>\n",
       "      <td>NaN</td>\n",
       "      <td>4.00</td>\n",
       "      <td>11</td>\n",
       "      <td>Quarter 3</td>\n",
       "    </tr>\n",
       "    <tr>\n",
       "      <th>3</th>\n",
       "      <td>Hyundai Grand</td>\n",
       "      <td>Delhi</td>\n",
       "      <td>2014</td>\n",
       "      <td>45000.0</td>\n",
       "      <td>Diesel</td>\n",
       "      <td>1</td>\n",
       "      <td>0</td>\n",
       "      <td>24.00</td>\n",
       "      <td>1120.0</td>\n",
       "      <td>70.0</td>\n",
       "      <td>White</td>\n",
       "      <td>5.0</td>\n",
       "      <td>4.0</td>\n",
       "      <td>NaN</td>\n",
       "      <td>3.49</td>\n",
       "      <td>10</td>\n",
       "      <td>Quarter 3</td>\n",
       "    </tr>\n",
       "    <tr>\n",
       "      <th>4</th>\n",
       "      <td>Toyota Innova</td>\n",
       "      <td>Delhi</td>\n",
       "      <td>2011</td>\n",
       "      <td>65000.0</td>\n",
       "      <td>Diesel</td>\n",
       "      <td>1</td>\n",
       "      <td>0</td>\n",
       "      <td>12.80</td>\n",
       "      <td>2494.0</td>\n",
       "      <td>102.0</td>\n",
       "      <td>Others</td>\n",
       "      <td>8.0</td>\n",
       "      <td>5.0</td>\n",
       "      <td>NaN</td>\n",
       "      <td>6.40</td>\n",
       "      <td>13</td>\n",
       "      <td>Quarter 2</td>\n",
       "    </tr>\n",
       "  </tbody>\n",
       "</table>\n",
       "</div>"
      ],
      "text/plain": [
       "               Name   Location  Year  Kilometers_Driven Fuel_Type  \\\n",
       "0  Mahindra Scorpio       Pune  2012            99000.0    Diesel   \n",
       "1     Maruti Baleno      Kochi  2018            18678.0    Petrol   \n",
       "2     Mahindra Xylo  Bangalore  2013           197000.0    Diesel   \n",
       "3     Hyundai Grand      Delhi  2014            45000.0    Diesel   \n",
       "4     Toyota Innova      Delhi  2011            65000.0    Diesel   \n",
       "\n",
       "   Transmission  Owner_Type  Mileage  Engine  Power        Colour  Seats  \\\n",
       "0             1           3    12.05  2179.0  120.0  Black/Silver    8.0   \n",
       "1             1           0    21.10   998.0  100.0        Others    5.0   \n",
       "2             1           0    11.68  2498.0  112.0         White    7.0   \n",
       "3             1           0    24.00  1120.0   70.0         White    5.0   \n",
       "4             1           0    12.80  2494.0  102.0        Others    8.0   \n",
       "\n",
       "   No. of Doors New_Price  Price  Age Year Quarter  \n",
       "0           5.0       NaN   6.00   12    Quarter 2  \n",
       "1           4.0       NaN   8.32    6    Quarter 3  \n",
       "2           5.0       NaN   4.00   11    Quarter 3  \n",
       "3           4.0       NaN   3.49   10    Quarter 3  \n",
       "4           5.0       NaN   6.40   13    Quarter 2  "
      ]
     },
     "execution_count": 31,
     "metadata": {},
     "output_type": "execute_result"
    }
   ],
   "source": [
    "le_owner = preprocessing.LabelEncoder()\n",
    "le_owner.fit(['First', 'Second', 'Third', 'Fourth & Above'])\n",
    "df['Owner_Type'] = le_owner.transform(df['Owner_Type'])\n",
    "\n",
    "le_transmission = preprocessing.LabelEncoder()\n",
    "le_transmission.fit(['Manual', 'Automatic'])\n",
    "df['Transmission'] = le_transmission.transform(df['Transmission'])\n",
    "\n",
    "df.head()"
   ]
  },
  {
   "cell_type": "markdown",
   "id": "3ad19dc8",
   "metadata": {},
   "source": [
    "**GROUPING**"
   ]
  },
  {
   "cell_type": "code",
   "execution_count": 32,
   "id": "1fbd627b",
   "metadata": {},
   "outputs": [
    {
     "data": {
      "text/plain": [
       "Fuel_Type\n",
       "CNG        3.548909\n",
       "Diesel    12.898802\n",
       "LPG        2.502222\n",
       "Petrol     5.732487\n",
       "Name: Price, dtype: float64"
      ]
     },
     "execution_count": 32,
     "metadata": {},
     "output_type": "execute_result"
    }
   ],
   "source": [
    "# Group by Fuel_Type and calculate the mean price for each group\n",
    "fuel_type_groups = df.groupby('Fuel_Type')['Price'].mean()\n",
    "fuel_type_groups"
   ]
  },
  {
   "cell_type": "markdown",
   "id": "7f4de4f0",
   "metadata": {},
   "source": [
    "# DATA VISUALIZATION"
   ]
  },
  {
   "cell_type": "code",
   "execution_count": 33,
   "id": "31d9cab8",
   "metadata": {},
   "outputs": [
    {
     "data": {
      "image/png": "[encoded data removed]",
      "text/plain": [
       "<Figure size 1000x600 with 1 Axes>"
      ]
     },
     "metadata": {},
     "output_type": "display_data"
    }
   ],
   "source": [
    "# Set the style for the plot\n",
    "sns.set(style=\"whitegrid\")\n",
    "\n",
    "# Create a bar plot\n",
    "plt.figure(figsize=(10, 6))\n",
    "sns.barplot(x=fuel_type_groups.index, y=fuel_type_groups.values, palette=\"viridis\")\n",
    "plt.title('Mean Price of Cars by Fuel Type')\n",
    "plt.xlabel('Fuel Type')\n",
    "plt.ylabel('Mean Price')\n",
    "plt.show()"
   ]
  },
  {
   "cell_type": "code",
   "execution_count": 34,
   "id": "65726cb4",
   "metadata": {},
   "outputs": [
    {
     "name": "stderr",
     "output_type": "stream",
     "text": [
      "C:\\Users\\Lenovo\\AppData\\Local\\Temp\\ipykernel_8816\\3668783102.py:1: FutureWarning: The default value of numeric_only in DataFrame.corr is deprecated. In a future version, it will default to False. Select only valid columns or specify the value of numeric_only to silence this warning.\n",
      "  correlation_matrix = df.corr()\n"
     ]
    },
    {
     "data": {
      "image/png": "[encoded data removed]",
      "text/plain": [
       "<Figure size 1000x500 with 2 Axes>"
      ]
     },
     "metadata": {},
     "output_type": "display_data"
    }
   ],
   "source": [
    "correlation_matrix = df.corr()\n",
    "plt.figure(figsize=(10, 5))\n",
    "sns.heatmap(correlation_matrix, annot=True, cmap='BrBG')\n",
    "plt.title('Correlation Matrix')\n",
    "plt.show()"
   ]
  },
  {
   "cell_type": "code",
   "execution_count": 35,
   "id": "d098801f",
   "metadata": {},
   "outputs": [
    {
     "data": {
      "image/png": "[encoded data removed]",
      "text/plain": [
       "<Figure size 640x480 with 1 Axes>"
      ]
     },
     "metadata": {},
     "output_type": "display_data"
    }
   ],
   "source": [
    "sns.kdeplot(x='Engine', hue='Transmission', data=df, palette='viridis')\n",
    "plt.title('Price Distribution based on Transmission')\n",
    "plt.show()"
   ]
  },
  {
   "cell_type": "code",
   "execution_count": 36,
   "id": "8dd79204",
   "metadata": {},
   "outputs": [
    {
     "data": {
      "image/png": "[encoded data removed]",
      "text/plain": [
       "<Figure size 1200x600 with 1 Axes>"
      ]
     },
     "metadata": {},
     "output_type": "display_data"
    }
   ],
   "source": [
    "plt.figure(figsize=(12, 6))\n",
    "sns.scatterplot(x='Age', y='Price', data=df, hue='Fuel_Type', palette='viridis', size='Engine', sizes=(20, 100))\n",
    "plt.title('Age vs. Price')\n",
    "plt.xlabel('Age')\n",
    "plt.ylabel('Price')\n",
    "plt.show()"
   ]
  },
  {
   "cell_type": "code",
   "execution_count": 37,
   "id": "4e17622b",
   "metadata": {},
   "outputs": [
    {
     "data": {
      "image/png": "[encoded data removed]",
      "text/plain": [
       "<Figure size 1500x800 with 1 Axes>"
      ]
     },
     "metadata": {},
     "output_type": "display_data"
    }
   ],
   "source": [
    "plt.figure(figsize=(15, 8))\n",
    "sns.countplot(y='Location', data=df, palette='viridis', order=df['Location'].value_counts().index)\n",
    "plt.title('Location of Car Seller')\n",
    "plt.xlabel('Count')\n",
    "plt.ylabel('Location')\n",
    "plt.show()"
   ]
  },
  {
   "cell_type": "markdown",
   "id": "b74dfdb2",
   "metadata": {},
   "source": [
    "# MODELLING"
   ]
  },
  {
   "cell_type": "code",
   "execution_count": 41,
   "id": "967167b1",
   "metadata": {},
   "outputs": [],
   "source": [
    "# Handle any remaining missing values\n",
    "df = df.dropna(subset=['Power'])"
   ]
  },
  {
   "cell_type": "code",
   "execution_count": 42,
   "id": "9d3336f7",
   "metadata": {},
   "outputs": [
    {
     "data": {
      "text/html": [
       "<div>\n",
       "<style scoped>\n",
       "    .dataframe tbody tr th:only-of-type {\n",
       "        vertical-align: middle;\n",
       "    }\n",
       "\n",
       "    .dataframe tbody tr th {\n",
       "        vertical-align: top;\n",
       "    }\n",
       "\n",
       "    .dataframe thead th {\n",
       "        text-align: right;\n",
       "    }\n",
       "</style>\n",
       "<table border=\"1\" class=\"dataframe\">\n",
       "  <thead>\n",
       "    <tr style=\"text-align: right;\">\n",
       "      <th></th>\n",
       "      <th>Age</th>\n",
       "      <th>Kilometers_Driven</th>\n",
       "      <th>Mileage</th>\n",
       "      <th>Engine</th>\n",
       "      <th>Power</th>\n",
       "      <th>Price</th>\n",
       "    </tr>\n",
       "  </thead>\n",
       "  <tbody>\n",
       "    <tr>\n",
       "      <th>0</th>\n",
       "      <td>11</td>\n",
       "      <td>99000.0</td>\n",
       "      <td>12.05</td>\n",
       "      <td>2179.0</td>\n",
       "      <td>120.0</td>\n",
       "      <td>6.00</td>\n",
       "    </tr>\n",
       "    <tr>\n",
       "      <th>1</th>\n",
       "      <td>5</td>\n",
       "      <td>18678.0</td>\n",
       "      <td>21.10</td>\n",
       "      <td>998.0</td>\n",
       "      <td>100.0</td>\n",
       "      <td>8.32</td>\n",
       "    </tr>\n",
       "    <tr>\n",
       "      <th>2</th>\n",
       "      <td>10</td>\n",
       "      <td>197000.0</td>\n",
       "      <td>11.68</td>\n",
       "      <td>2498.0</td>\n",
       "      <td>112.0</td>\n",
       "      <td>4.00</td>\n",
       "    </tr>\n",
       "    <tr>\n",
       "      <th>3</th>\n",
       "      <td>9</td>\n",
       "      <td>45000.0</td>\n",
       "      <td>24.00</td>\n",
       "      <td>1120.0</td>\n",
       "      <td>70.0</td>\n",
       "      <td>3.49</td>\n",
       "    </tr>\n",
       "    <tr>\n",
       "      <th>4</th>\n",
       "      <td>12</td>\n",
       "      <td>65000.0</td>\n",
       "      <td>12.80</td>\n",
       "      <td>2494.0</td>\n",
       "      <td>102.0</td>\n",
       "      <td>6.40</td>\n",
       "    </tr>\n",
       "    <tr>\n",
       "      <th>...</th>\n",
       "      <td>...</td>\n",
       "      <td>...</td>\n",
       "      <td>...</td>\n",
       "      <td>...</td>\n",
       "      <td>...</td>\n",
       "      <td>...</td>\n",
       "    </tr>\n",
       "    <tr>\n",
       "      <th>5956</th>\n",
       "      <td>12</td>\n",
       "      <td>47000.0</td>\n",
       "      <td>13.90</td>\n",
       "      <td>1799.0</td>\n",
       "      <td>130.3</td>\n",
       "      <td>4.50</td>\n",
       "    </tr>\n",
       "    <tr>\n",
       "      <th>5957</th>\n",
       "      <td>10</td>\n",
       "      <td>63777.0</td>\n",
       "      <td>18.50</td>\n",
       "      <td>1197.0</td>\n",
       "      <td>82.9</td>\n",
       "      <td>3.67</td>\n",
       "    </tr>\n",
       "    <tr>\n",
       "      <th>5958</th>\n",
       "      <td>7</td>\n",
       "      <td>37806.0</td>\n",
       "      <td>20.40</td>\n",
       "      <td>1197.0</td>\n",
       "      <td>81.8</td>\n",
       "      <td>5.20</td>\n",
       "    </tr>\n",
       "    <tr>\n",
       "      <th>5959</th>\n",
       "      <td>7</td>\n",
       "      <td>22732.0</td>\n",
       "      <td>18.10</td>\n",
       "      <td>3498.0</td>\n",
       "      <td>306.0</td>\n",
       "      <td>55.54</td>\n",
       "    </tr>\n",
       "    <tr>\n",
       "      <th>5960</th>\n",
       "      <td>7</td>\n",
       "      <td>7000.0</td>\n",
       "      <td>20.36</td>\n",
       "      <td>1197.0</td>\n",
       "      <td>78.9</td>\n",
       "      <td>3.60</td>\n",
       "    </tr>\n",
       "  </tbody>\n",
       "</table>\n",
       "<p>5786 rows × 6 columns</p>\n",
       "</div>"
      ],
      "text/plain": [
       "      Age  Kilometers_Driven  Mileage  Engine  Power  Price\n",
       "0      11            99000.0    12.05  2179.0  120.0   6.00\n",
       "1       5            18678.0    21.10   998.0  100.0   8.32\n",
       "2      10           197000.0    11.68  2498.0  112.0   4.00\n",
       "3       9            45000.0    24.00  1120.0   70.0   3.49\n",
       "4      12            65000.0    12.80  2494.0  102.0   6.40\n",
       "...   ...                ...      ...     ...    ...    ...\n",
       "5956   12            47000.0    13.90  1799.0  130.3   4.50\n",
       "5957   10            63777.0    18.50  1197.0   82.9   3.67\n",
       "5958    7            37806.0    20.40  1197.0   81.8   5.20\n",
       "5959    7            22732.0    18.10  3498.0  306.0  55.54\n",
       "5960    7             7000.0    20.36  1197.0   78.9   3.60\n",
       "\n",
       "[5786 rows x 6 columns]"
      ]
     },
     "execution_count": 42,
     "metadata": {},
     "output_type": "execute_result"
    }
   ],
   "source": [
    "regresi = df[['Age','Kilometers_Driven','Mileage','Engine','Power','Price']]\n",
    "regresi"
   ]
  },
  {
   "cell_type": "code",
   "execution_count": 44,
   "id": "be4c1f35",
   "metadata": {},
   "outputs": [],
   "source": [
    "msk = np.random.rand(len(df)) < 0.8\n",
    "train = regresi[msk]\n",
    "test = regresi[~msk]"
   ]
  },
  {
   "cell_type": "code",
   "execution_count": 45,
   "id": "c335c460",
   "metadata": {},
   "outputs": [
    {
     "data": {
      "image/png": "[encoded data removed]",
      "text/plain": [
       "<Figure size 640x480 with 1 Axes>"
      ]
     },
     "metadata": {},
     "output_type": "display_data"
    }
   ],
   "source": [
    "plt.scatter(train.Age, train.Price, color='blue')\n",
    "plt.xlabel(\"Age\")\n",
    "plt.ylabel(\"Price\")\n",
    "plt.show()"
   ]
  },
  {
   "cell_type": "code",
   "execution_count": 46,
   "id": "13741df7",
   "metadata": {},
   "outputs": [
    {
     "data": {
      "text/html": [
       "<style>#sk-container-id-1 {color: black;}#sk-container-id-1 pre{padding: 0;}#sk-container-id-1 div.sk-toggleable {background-color: white;}#sk-container-id-1 label.sk-toggleable__label {cursor: pointer;display: block;width: 100%;margin-bottom: 0;padding: 0.3em;box-sizing: border-box;text-align: center;}#sk-container-id-1 label.sk-toggleable__label-arrow:before {content: \"▸\";float: left;margin-right: 0.25em;color: #696969;}#sk-container-id-1 label.sk-toggleable__label-arrow:hover:before {color: black;}#sk-container-id-1 div.sk-estimator:hover label.sk-toggleable__label-arrow:before {color: black;}#sk-container-id-1 div.sk-toggleable__content {max-height: 0;max-width: 0;overflow: hidden;text-align: left;background-color: #f0f8ff;}#sk-container-id-1 div.sk-toggleable__content pre {margin: 0.2em;color: black;border-radius: 0.25em;background-color: #f0f8ff;}#sk-container-id-1 input.sk-toggleable__control:checked~div.sk-toggleable__content {max-height: 200px;max-width: 100%;overflow: auto;}#sk-container-id-1 input.sk-toggleable__control:checked~label.sk-toggleable__label-arrow:before {content: \"▾\";}#sk-container-id-1 div.sk-estimator input.sk-toggleable__control:checked~label.sk-toggleable__label {background-color: #d4ebff;}#sk-container-id-1 div.sk-label input.sk-toggleable__control:checked~label.sk-toggleable__label {background-color: #d4ebff;}#sk-container-id-1 input.sk-hidden--visually {border: 0;clip: rect(1px 1px 1px 1px);clip: rect(1px, 1px, 1px, 1px);height: 1px;margin: -1px;overflow: hidden;padding: 0;position: absolute;width: 1px;}#sk-container-id-1 div.sk-estimator {font-family: monospace;background-color: #f0f8ff;border: 1px dotted black;border-radius: 0.25em;box-sizing: border-box;margin-bottom: 0.5em;}#sk-container-id-1 div.sk-estimator:hover {background-color: #d4ebff;}#sk-container-id-1 div.sk-parallel-item::after {content: \"\";width: 100%;border-bottom: 1px solid gray;flex-grow: 1;}#sk-container-id-1 div.sk-label:hover label.sk-toggleable__label {background-color: #d4ebff;}#sk-container-id-1 div.sk-serial::before {content: \"\";position: absolute;border-left: 1px solid gray;box-sizing: border-box;top: 0;bottom: 0;left: 50%;z-index: 0;}#sk-container-id-1 div.sk-serial {display: flex;flex-direction: column;align-items: center;background-color: white;padding-right: 0.2em;padding-left: 0.2em;position: relative;}#sk-container-id-1 div.sk-item {position: relative;z-index: 1;}#sk-container-id-1 div.sk-parallel {display: flex;align-items: stretch;justify-content: center;background-color: white;position: relative;}#sk-container-id-1 div.sk-item::before, #sk-container-id-1 div.sk-parallel-item::before {content: \"\";position: absolute;border-left: 1px solid gray;box-sizing: border-box;top: 0;bottom: 0;left: 50%;z-index: -1;}#sk-container-id-1 div.sk-parallel-item {display: flex;flex-direction: column;z-index: 1;position: relative;background-color: white;}#sk-container-id-1 div.sk-parallel-item:first-child::after {align-self: flex-end;width: 50%;}#sk-container-id-1 div.sk-parallel-item:last-child::after {align-self: flex-start;width: 50%;}#sk-container-id-1 div.sk-parallel-item:only-child::after {width: 0;}#sk-container-id-1 div.sk-dashed-wrapped {border: 1px dashed gray;margin: 0 0.4em 0.5em 0.4em;box-sizing: border-box;padding-bottom: 0.4em;background-color: white;}#sk-container-id-1 div.sk-label label {font-family: monospace;font-weight: bold;display: inline-block;line-height: 1.2em;}#sk-container-id-1 div.sk-label-container {text-align: center;}#sk-container-id-1 div.sk-container {/* jupyter's `normalize.less` sets `[hidden] { display: none; }` but bootstrap.min.css set `[hidden] { display: none !important; }` so we also need the `!important` here to be able to override the default hidden behavior on the sphinx rendered scikit-learn.org. See: https://github.com/scikit-learn/scikit-learn/issues/21755 */display: inline-block !important;position: relative;}#sk-container-id-1 div.sk-text-repr-fallback {display: none;}</style><div id=\"sk-container-id-1\" class=\"sk-top-container\"><div class=\"sk-text-repr-fallback\"><pre>LinearRegression()</pre><b>In a Jupyter environment, please rerun this cell to show the HTML representation or trust the notebook. <br />On GitHub, the HTML representation is unable to render, please try loading this page with nbviewer.org.</b></div><div class=\"sk-container\" hidden><div class=\"sk-item\"><div class=\"sk-estimator sk-toggleable\"><input class=\"sk-toggleable__control sk-hidden--visually\" id=\"sk-estimator-id-1\" type=\"checkbox\" checked><label for=\"sk-estimator-id-1\" class=\"sk-toggleable__label sk-toggleable__label-arrow\">LinearRegression</label><div class=\"sk-toggleable__content\"><pre>LinearRegression()</pre></div></div></div></div></div>"
      ],
      "text/plain": [
       "LinearRegression()"
      ]
     },
     "execution_count": 46,
     "metadata": {},
     "output_type": "execute_result"
    }
   ],
   "source": [
    "simple_regression_model = LinearRegression()\n",
    "simple_regression_model.fit(train[['Age']], train['Price'])"
   ]
  },
  {
   "cell_type": "code",
   "execution_count": 47,
   "id": "8277d2e3",
   "metadata": {},
   "outputs": [
    {
     "data": {
      "text/html": [
       "<style>#sk-container-id-2 {color: black;}#sk-container-id-2 pre{padding: 0;}#sk-container-id-2 div.sk-toggleable {background-color: white;}#sk-container-id-2 label.sk-toggleable__label {cursor: pointer;display: block;width: 100%;margin-bottom: 0;padding: 0.3em;box-sizing: border-box;text-align: center;}#sk-container-id-2 label.sk-toggleable__label-arrow:before {content: \"▸\";float: left;margin-right: 0.25em;color: #696969;}#sk-container-id-2 label.sk-toggleable__label-arrow:hover:before {color: black;}#sk-container-id-2 div.sk-estimator:hover label.sk-toggleable__label-arrow:before {color: black;}#sk-container-id-2 div.sk-toggleable__content {max-height: 0;max-width: 0;overflow: hidden;text-align: left;background-color: #f0f8ff;}#sk-container-id-2 div.sk-toggleable__content pre {margin: 0.2em;color: black;border-radius: 0.25em;background-color: #f0f8ff;}#sk-container-id-2 input.sk-toggleable__control:checked~div.sk-toggleable__content {max-height: 200px;max-width: 100%;overflow: auto;}#sk-container-id-2 input.sk-toggleable__control:checked~label.sk-toggleable__label-arrow:before {content: \"▾\";}#sk-container-id-2 div.sk-estimator input.sk-toggleable__control:checked~label.sk-toggleable__label {background-color: #d4ebff;}#sk-container-id-2 div.sk-label input.sk-toggleable__control:checked~label.sk-toggleable__label {background-color: #d4ebff;}#sk-container-id-2 input.sk-hidden--visually {border: 0;clip: rect(1px 1px 1px 1px);clip: rect(1px, 1px, 1px, 1px);height: 1px;margin: -1px;overflow: hidden;padding: 0;position: absolute;width: 1px;}#sk-container-id-2 div.sk-estimator {font-family: monospace;background-color: #f0f8ff;border: 1px dotted black;border-radius: 0.25em;box-sizing: border-box;margin-bottom: 0.5em;}#sk-container-id-2 div.sk-estimator:hover {background-color: #d4ebff;}#sk-container-id-2 div.sk-parallel-item::after {content: \"\";width: 100%;border-bottom: 1px solid gray;flex-grow: 1;}#sk-container-id-2 div.sk-label:hover label.sk-toggleable__label {background-color: #d4ebff;}#sk-container-id-2 div.sk-serial::before {content: \"\";position: absolute;border-left: 1px solid gray;box-sizing: border-box;top: 0;bottom: 0;left: 50%;z-index: 0;}#sk-container-id-2 div.sk-serial {display: flex;flex-direction: column;align-items: center;background-color: white;padding-right: 0.2em;padding-left: 0.2em;position: relative;}#sk-container-id-2 div.sk-item {position: relative;z-index: 1;}#sk-container-id-2 div.sk-parallel {display: flex;align-items: stretch;justify-content: center;background-color: white;position: relative;}#sk-container-id-2 div.sk-item::before, #sk-container-id-2 div.sk-parallel-item::before {content: \"\";position: absolute;border-left: 1px solid gray;box-sizing: border-box;top: 0;bottom: 0;left: 50%;z-index: -1;}#sk-container-id-2 div.sk-parallel-item {display: flex;flex-direction: column;z-index: 1;position: relative;background-color: white;}#sk-container-id-2 div.sk-parallel-item:first-child::after {align-self: flex-end;width: 50%;}#sk-container-id-2 div.sk-parallel-item:last-child::after {align-self: flex-start;width: 50%;}#sk-container-id-2 div.sk-parallel-item:only-child::after {width: 0;}#sk-container-id-2 div.sk-dashed-wrapped {border: 1px dashed gray;margin: 0 0.4em 0.5em 0.4em;box-sizing: border-box;padding-bottom: 0.4em;background-color: white;}#sk-container-id-2 div.sk-label label {font-family: monospace;font-weight: bold;display: inline-block;line-height: 1.2em;}#sk-container-id-2 div.sk-label-container {text-align: center;}#sk-container-id-2 div.sk-container {/* jupyter's `normalize.less` sets `[hidden] { display: none; }` but bootstrap.min.css set `[hidden] { display: none !important; }` so we also need the `!important` here to be able to override the default hidden behavior on the sphinx rendered scikit-learn.org. See: https://github.com/scikit-learn/scikit-learn/issues/21755 */display: inline-block !important;position: relative;}#sk-container-id-2 div.sk-text-repr-fallback {display: none;}</style><div id=\"sk-container-id-2\" class=\"sk-top-container\"><div class=\"sk-text-repr-fallback\"><pre>LinearRegression()</pre><b>In a Jupyter environment, please rerun this cell to show the HTML representation or trust the notebook. <br />On GitHub, the HTML representation is unable to render, please try loading this page with nbviewer.org.</b></div><div class=\"sk-container\" hidden><div class=\"sk-item\"><div class=\"sk-estimator sk-toggleable\"><input class=\"sk-toggleable__control sk-hidden--visually\" id=\"sk-estimator-id-2\" type=\"checkbox\" checked><label for=\"sk-estimator-id-2\" class=\"sk-toggleable__label sk-toggleable__label-arrow\">LinearRegression</label><div class=\"sk-toggleable__content\"><pre>LinearRegression()</pre></div></div></div></div></div>"
      ],
      "text/plain": [
       "LinearRegression()"
      ]
     },
     "execution_count": 47,
     "metadata": {},
     "output_type": "execute_result"
    }
   ],
   "source": [
    "multiple_regression_model = LinearRegression()\n",
    "x_multiple = train[['Age', 'Kilometers_Driven', 'Mileage', 'Engine', 'Power']]\n",
    "multiple_regression_model.fit(x_multiple, train['Price'])"
   ]
  },
  {
   "cell_type": "code",
   "execution_count": 48,
   "id": "67c211aa",
   "metadata": {},
   "outputs": [
    {
     "data": {
      "text/html": [
       "<style>#sk-container-id-3 {color: black;}#sk-container-id-3 pre{padding: 0;}#sk-container-id-3 div.sk-toggleable {background-color: white;}#sk-container-id-3 label.sk-toggleable__label {cursor: pointer;display: block;width: 100%;margin-bottom: 0;padding: 0.3em;box-sizing: border-box;text-align: center;}#sk-container-id-3 label.sk-toggleable__label-arrow:before {content: \"▸\";float: left;margin-right: 0.25em;color: #696969;}#sk-container-id-3 label.sk-toggleable__label-arrow:hover:before {color: black;}#sk-container-id-3 div.sk-estimator:hover label.sk-toggleable__label-arrow:before {color: black;}#sk-container-id-3 div.sk-toggleable__content {max-height: 0;max-width: 0;overflow: hidden;text-align: left;background-color: #f0f8ff;}#sk-container-id-3 div.sk-toggleable__content pre {margin: 0.2em;color: black;border-radius: 0.25em;background-color: #f0f8ff;}#sk-container-id-3 input.sk-toggleable__control:checked~div.sk-toggleable__content {max-height: 200px;max-width: 100%;overflow: auto;}#sk-container-id-3 input.sk-toggleable__control:checked~label.sk-toggleable__label-arrow:before {content: \"▾\";}#sk-container-id-3 div.sk-estimator input.sk-toggleable__control:checked~label.sk-toggleable__label {background-color: #d4ebff;}#sk-container-id-3 div.sk-label input.sk-toggleable__control:checked~label.sk-toggleable__label {background-color: #d4ebff;}#sk-container-id-3 input.sk-hidden--visually {border: 0;clip: rect(1px 1px 1px 1px);clip: rect(1px, 1px, 1px, 1px);height: 1px;margin: -1px;overflow: hidden;padding: 0;position: absolute;width: 1px;}#sk-container-id-3 div.sk-estimator {font-family: monospace;background-color: #f0f8ff;border: 1px dotted black;border-radius: 0.25em;box-sizing: border-box;margin-bottom: 0.5em;}#sk-container-id-3 div.sk-estimator:hover {background-color: #d4ebff;}#sk-container-id-3 div.sk-parallel-item::after {content: \"\";width: 100%;border-bottom: 1px solid gray;flex-grow: 1;}#sk-container-id-3 div.sk-label:hover label.sk-toggleable__label {background-color: #d4ebff;}#sk-container-id-3 div.sk-serial::before {content: \"\";position: absolute;border-left: 1px solid gray;box-sizing: border-box;top: 0;bottom: 0;left: 50%;z-index: 0;}#sk-container-id-3 div.sk-serial {display: flex;flex-direction: column;align-items: center;background-color: white;padding-right: 0.2em;padding-left: 0.2em;position: relative;}#sk-container-id-3 div.sk-item {position: relative;z-index: 1;}#sk-container-id-3 div.sk-parallel {display: flex;align-items: stretch;justify-content: center;background-color: white;position: relative;}#sk-container-id-3 div.sk-item::before, #sk-container-id-3 div.sk-parallel-item::before {content: \"\";position: absolute;border-left: 1px solid gray;box-sizing: border-box;top: 0;bottom: 0;left: 50%;z-index: -1;}#sk-container-id-3 div.sk-parallel-item {display: flex;flex-direction: column;z-index: 1;position: relative;background-color: white;}#sk-container-id-3 div.sk-parallel-item:first-child::after {align-self: flex-end;width: 50%;}#sk-container-id-3 div.sk-parallel-item:last-child::after {align-self: flex-start;width: 50%;}#sk-container-id-3 div.sk-parallel-item:only-child::after {width: 0;}#sk-container-id-3 div.sk-dashed-wrapped {border: 1px dashed gray;margin: 0 0.4em 0.5em 0.4em;box-sizing: border-box;padding-bottom: 0.4em;background-color: white;}#sk-container-id-3 div.sk-label label {font-family: monospace;font-weight: bold;display: inline-block;line-height: 1.2em;}#sk-container-id-3 div.sk-label-container {text-align: center;}#sk-container-id-3 div.sk-container {/* jupyter's `normalize.less` sets `[hidden] { display: none; }` but bootstrap.min.css set `[hidden] { display: none !important; }` so we also need the `!important` here to be able to override the default hidden behavior on the sphinx rendered scikit-learn.org. See: https://github.com/scikit-learn/scikit-learn/issues/21755 */display: inline-block !important;position: relative;}#sk-container-id-3 div.sk-text-repr-fallback {display: none;}</style><div id=\"sk-container-id-3\" class=\"sk-top-container\"><div class=\"sk-text-repr-fallback\"><pre>LinearRegression()</pre><b>In a Jupyter environment, please rerun this cell to show the HTML representation or trust the notebook. <br />On GitHub, the HTML representation is unable to render, please try loading this page with nbviewer.org.</b></div><div class=\"sk-container\" hidden><div class=\"sk-item\"><div class=\"sk-estimator sk-toggleable\"><input class=\"sk-toggleable__control sk-hidden--visually\" id=\"sk-estimator-id-3\" type=\"checkbox\" checked><label for=\"sk-estimator-id-3\" class=\"sk-toggleable__label sk-toggleable__label-arrow\">LinearRegression</label><div class=\"sk-toggleable__content\"><pre>LinearRegression()</pre></div></div></div></div></div>"
      ],
      "text/plain": [
       "LinearRegression()"
      ]
     },
     "execution_count": 48,
     "metadata": {},
     "output_type": "execute_result"
    }
   ],
   "source": [
    "poly_features = PolynomialFeatures(degree=2)\n",
    "x_poly = train[['Age']]\n",
    "x_poly = poly_features.fit_transform(x_poly)\n",
    "polynomial_regression_model = LinearRegression()\n",
    "polynomial_regression_model.fit(x_poly, train['Price'])"
   ]
  },
  {
   "cell_type": "code",
   "execution_count": 49,
   "id": "ac4ebedc",
   "metadata": {},
   "outputs": [
    {
     "data": {
      "text/plain": [
       "<matplotlib.legend.Legend at 0x16986174f90>"
      ]
     },
     "execution_count": 49,
     "metadata": {},
     "output_type": "execute_result"
    },
    {
     "data": {
      "image/png": "[encoded data removed]",
      "text/plain": [
       "<Figure size 1500x500 with 3 Axes>"
      ]
     },
     "metadata": {},
     "output_type": "display_data"
    }
   ],
   "source": [
    "# Plot outputs\n",
    "plt.figure(figsize=(15, 5))\n",
    "\n",
    "# Simple Linear Regression Plot\n",
    "plt.subplot(1, 3, 1)\n",
    "plt.scatter(test['Age'], test['Price'], color='black', label='Actual')\n",
    "plt.plot(test[['Age']], simple_regression_model.predict(test[['Age']]), color='blue', label='Predicted')\n",
    "plt.title('Simple Linear Regression')\n",
    "plt.xlabel('Age')\n",
    "plt.ylabel('Price')\n",
    "plt.legend()\n",
    "\n",
    "# Multiple Linear Regression Plot\n",
    "plt.subplot(1, 3, 2)\n",
    "plt.scatter(test['Age'], test['Price'], color='black', label='Actual')\n",
    "plt.scatter(test['Age'], multiple_regression_model.predict(test[['Age', 'Kilometers_Driven', 'Mileage', 'Engine', 'Power']])\n",
    "            , color='red', label='Predicted')\n",
    "plt.title('Multiple Linear Regression')\n",
    "plt.xlabel('Age')\n",
    "plt.ylabel('Price')\n",
    "plt.legend()\n",
    "\n",
    "# Polynomial Regression Plot\n",
    "plt.subplot(1, 3, 3)\n",
    "plt.scatter(test['Age'], test['Price'], color='black', label='Actual')\n",
    "x_test_poly = poly_features.transform(test[['Age']])\n",
    "plt.scatter(test['Age'], polynomial_regression_model.predict(x_test_poly), color='green', label='Predicted')\n",
    "plt.title('Polynomial Regression')\n",
    "plt.xlabel('Age')\n",
    "plt.ylabel('Price')\n",
    "plt.legend()\n"
   ]
  },
  {
   "cell_type": "code",
   "execution_count": 50,
   "id": "0f2f2a85",
   "metadata": {},
   "outputs": [
    {
     "name": "stdout",
     "output_type": "stream",
     "text": [
      "Simple Linear Regression - MSE: 95.80, R2-score: 0.10\n",
      "Multiple Linear Regression - MSE: 58.15, R2-score: 0.46\n",
      "Polynomial Regression - MSE: 95.34, R2-score: 0.11\n"
     ]
    }
   ],
   "source": [
    "# Evaluation\n",
    "def evaluate_model(model, X, y):\n",
    "    y_pred = model.predict(X)\n",
    "    mse = mean_squared_error(y, y_pred)\n",
    "    r2 = r2_score(y, y_pred)\n",
    "    return mse, r2\n",
    "\n",
    "# Evaluate Simple Linear Regression\n",
    "mse_simple, r2_simple = evaluate_model(simple_regression_model, test[['Age']], test['Price'])\n",
    "print(\"Simple Linear Regression - MSE: {:.2f}, R2-score: {:.2f}\".format(mse_simple, r2_simple))\n",
    "\n",
    "# Evaluate Multiple Linear Regression\n",
    "x_test_multiple = test[['Age', 'Kilometers_Driven', 'Mileage', 'Engine', 'Power']]\n",
    "mse_multiple, r2_multiple = evaluate_model(multiple_regression_model, x_test_multiple, test['Price'])\n",
    "print(\"Multiple Linear Regression - MSE: {:.2f}, R2-score: {:.2f}\".format(mse_multiple, r2_multiple))\n",
    "\n",
    "# Evaluate Polynomial Regression\n",
    "x_test_poly = poly_features.transform(test[['Age']])\n",
    "mse_poly, r2_poly = evaluate_model(polynomial_regression_model, x_test_poly, test['Price'])\n",
    "print(\"Polynomial Regression - MSE: {:.2f}, R2-score: {:.2f}\".format(mse_poly, r2_poly))"
   ]
  },
  {
   "cell_type": "markdown",
   "id": "473d70a1",
   "metadata": {},
   "source": [
    "### Simple Linear Regression"
   ]
  },
  {
   "cell_type": "code",
   "execution_count": 51,
   "id": "a199a4cf",
   "metadata": {},
   "outputs": [
    {
     "data": {
      "text/html": [
       "<div>\n",
       "<style scoped>\n",
       "    .dataframe tbody tr th:only-of-type {\n",
       "        vertical-align: middle;\n",
       "    }\n",
       "\n",
       "    .dataframe tbody tr th {\n",
       "        vertical-align: top;\n",
       "    }\n",
       "\n",
       "    .dataframe thead th {\n",
       "        text-align: right;\n",
       "    }\n",
       "</style>\n",
       "<table border=\"1\" class=\"dataframe\">\n",
       "  <thead>\n",
       "    <tr style=\"text-align: right;\">\n",
       "      <th></th>\n",
       "      <th>Age</th>\n",
       "      <th>Kilometers_Driven</th>\n",
       "      <th>Mileage</th>\n",
       "      <th>Engine</th>\n",
       "      <th>Power</th>\n",
       "      <th>Price</th>\n",
       "    </tr>\n",
       "  </thead>\n",
       "  <tbody>\n",
       "    <tr>\n",
       "      <th>0</th>\n",
       "      <td>11</td>\n",
       "      <td>99000.0</td>\n",
       "      <td>12.05</td>\n",
       "      <td>2179.0</td>\n",
       "      <td>120.0</td>\n",
       "      <td>6.00</td>\n",
       "    </tr>\n",
       "    <tr>\n",
       "      <th>1</th>\n",
       "      <td>5</td>\n",
       "      <td>18678.0</td>\n",
       "      <td>21.10</td>\n",
       "      <td>998.0</td>\n",
       "      <td>100.0</td>\n",
       "      <td>8.32</td>\n",
       "    </tr>\n",
       "    <tr>\n",
       "      <th>2</th>\n",
       "      <td>10</td>\n",
       "      <td>197000.0</td>\n",
       "      <td>11.68</td>\n",
       "      <td>2498.0</td>\n",
       "      <td>112.0</td>\n",
       "      <td>4.00</td>\n",
       "    </tr>\n",
       "    <tr>\n",
       "      <th>3</th>\n",
       "      <td>9</td>\n",
       "      <td>45000.0</td>\n",
       "      <td>24.00</td>\n",
       "      <td>1120.0</td>\n",
       "      <td>70.0</td>\n",
       "      <td>3.49</td>\n",
       "    </tr>\n",
       "    <tr>\n",
       "      <th>4</th>\n",
       "      <td>12</td>\n",
       "      <td>65000.0</td>\n",
       "      <td>12.80</td>\n",
       "      <td>2494.0</td>\n",
       "      <td>102.0</td>\n",
       "      <td>6.40</td>\n",
       "    </tr>\n",
       "    <tr>\n",
       "      <th>...</th>\n",
       "      <td>...</td>\n",
       "      <td>...</td>\n",
       "      <td>...</td>\n",
       "      <td>...</td>\n",
       "      <td>...</td>\n",
       "      <td>...</td>\n",
       "    </tr>\n",
       "    <tr>\n",
       "      <th>5956</th>\n",
       "      <td>12</td>\n",
       "      <td>47000.0</td>\n",
       "      <td>13.90</td>\n",
       "      <td>1799.0</td>\n",
       "      <td>130.3</td>\n",
       "      <td>4.50</td>\n",
       "    </tr>\n",
       "    <tr>\n",
       "      <th>5957</th>\n",
       "      <td>10</td>\n",
       "      <td>63777.0</td>\n",
       "      <td>18.50</td>\n",
       "      <td>1197.0</td>\n",
       "      <td>82.9</td>\n",
       "      <td>3.67</td>\n",
       "    </tr>\n",
       "    <tr>\n",
       "      <th>5958</th>\n",
       "      <td>7</td>\n",
       "      <td>37806.0</td>\n",
       "      <td>20.40</td>\n",
       "      <td>1197.0</td>\n",
       "      <td>81.8</td>\n",
       "      <td>5.20</td>\n",
       "    </tr>\n",
       "    <tr>\n",
       "      <th>5959</th>\n",
       "      <td>7</td>\n",
       "      <td>22732.0</td>\n",
       "      <td>18.10</td>\n",
       "      <td>3498.0</td>\n",
       "      <td>306.0</td>\n",
       "      <td>55.54</td>\n",
       "    </tr>\n",
       "    <tr>\n",
       "      <th>5960</th>\n",
       "      <td>7</td>\n",
       "      <td>7000.0</td>\n",
       "      <td>20.36</td>\n",
       "      <td>1197.0</td>\n",
       "      <td>78.9</td>\n",
       "      <td>3.60</td>\n",
       "    </tr>\n",
       "  </tbody>\n",
       "</table>\n",
       "<p>5786 rows × 6 columns</p>\n",
       "</div>"
      ],
      "text/plain": [
       "      Age  Kilometers_Driven  Mileage  Engine  Power  Price\n",
       "0      11            99000.0    12.05  2179.0  120.0   6.00\n",
       "1       5            18678.0    21.10   998.0  100.0   8.32\n",
       "2      10           197000.0    11.68  2498.0  112.0   4.00\n",
       "3       9            45000.0    24.00  1120.0   70.0   3.49\n",
       "4      12            65000.0    12.80  2494.0  102.0   6.40\n",
       "...   ...                ...      ...     ...    ...    ...\n",
       "5956   12            47000.0    13.90  1799.0  130.3   4.50\n",
       "5957   10            63777.0    18.50  1197.0   82.9   3.67\n",
       "5958    7            37806.0    20.40  1197.0   81.8   5.20\n",
       "5959    7            22732.0    18.10  3498.0  306.0  55.54\n",
       "5960    7             7000.0    20.36  1197.0   78.9   3.60\n",
       "\n",
       "[5786 rows x 6 columns]"
      ]
     },
     "execution_count": 51,
     "metadata": {},
     "output_type": "execute_result"
    }
   ],
   "source": [
    "df_cut = df[['Age','Kilometers_Driven','Mileage','Engine','Power','Price']]\n",
    "df_cut"
   ]
  },
  {
   "cell_type": "code",
   "execution_count": 52,
   "id": "e7485d84",
   "metadata": {},
   "outputs": [
    {
     "data": {
      "image/png": "[encoded data removed]",
      "text/plain": [
       "<Figure size 640x480 with 1 Axes>"
      ]
     },
     "metadata": {},
     "output_type": "display_data"
    }
   ],
   "source": [
    "plt.scatter(df_cut.Age, df_cut.Price, color='black')\n",
    "plt.xlabel(\"Age\")\n",
    "plt.ylabel(\"Price\")\n",
    "plt.show()"
   ]
  },
  {
   "cell_type": "code",
   "execution_count": 53,
   "id": "90c4d8c6",
   "metadata": {},
   "outputs": [],
   "source": [
    "msk = np.random.rand(len(df)) < 0.8\n",
    "train = df_cut[msk]\n",
    "test = df_cut[~msk]"
   ]
  },
  {
   "cell_type": "code",
   "execution_count": 54,
   "id": "76b3c594",
   "metadata": {},
   "outputs": [
    {
     "data": {
      "image/png": "[encoded data removed]",
      "text/plain": [
       "<Figure size 640x480 with 1 Axes>"
      ]
     },
     "metadata": {},
     "output_type": "display_data"
    }
   ],
   "source": [
    "plt.scatter(train.Age, train.Price, color='black')\n",
    "plt.xlabel(\"Age\")\n",
    "plt.ylabel(\"Price\")\n",
    "plt.show()"
   ]
  },
  {
   "cell_type": "code",
   "execution_count": 55,
   "id": "25f2e6ae",
   "metadata": {},
   "outputs": [
    {
     "name": "stdout",
     "output_type": "stream",
     "text": [
      "Coefficients:  [[-1.02059869]]\n",
      "Intercept:  [19.2773693]\n"
     ]
    }
   ],
   "source": [
    "from sklearn import linear_model\n",
    "regr = linear_model.LinearRegression()\n",
    "train_x = np.asanyarray(train[['Age']])\n",
    "train_y = np.asanyarray(train[['Price']])\n",
    "regr.fit(train_x, train_y)\n",
    "# The coefficients\n",
    "print ('Coefficients: ', regr.coef_)\n",
    "print ('Intercept: ', regr.intercept_)"
   ]
  },
  {
   "cell_type": "code",
   "execution_count": 56,
   "id": "9f2058ea",
   "metadata": {},
   "outputs": [
    {
     "data": {
      "text/plain": [
       "Text(0, 0.5, 'Price')"
      ]
     },
     "execution_count": 56,
     "metadata": {},
     "output_type": "execute_result"
    },
    {
     "data": {
      "image/png": "[encoded data removed]",
      "text/plain": [
       "<Figure size 640x480 with 1 Axes>"
      ]
     },
     "metadata": {},
     "output_type": "display_data"
    }
   ],
   "source": [
    "plt.scatter(train.Age, train.Price, color='black')\n",
    "plt.plot(train_x, regr.coef_[0][0]*train_x + regr.intercept_[0], '-r')\n",
    "plt.xlabel(\"Age\")\n",
    "plt.ylabel(\"Price\")"
   ]
  },
  {
   "cell_type": "code",
   "execution_count": 57,
   "id": "397ff754",
   "metadata": {},
   "outputs": [
    {
     "name": "stdout",
     "output_type": "stream",
     "text": [
      "Mean absolute error: 7.18\n",
      "Residual sum of square (MSE): 137.53\n",
      "R2-score: 0.10\n"
     ]
    }
   ],
   "source": [
    "test_x = np.asanyarray(test[['Age']]) \n",
    "test_y = np.asanyarray(test[['Price']])\n",
    "test_y_ = regr.predict(test_x)\n",
    "\n",
    "print(\"Mean absolute error: %.2f\" % np.mean(np.absolute(test_y_ - test_y)))\n",
    "print(\"Residual sum of square (MSE): %.2f\" % np.mean((test_y_ - test_y) ** 2))\n",
    "print(\"R2-score: %.2f\" % r2_score(test_y , test_y_) )"
   ]
  },
  {
   "cell_type": "markdown",
   "id": "6df6e9c1",
   "metadata": {},
   "source": [
    "### Multiple Regression"
   ]
  },
  {
   "cell_type": "code",
   "execution_count": 58,
   "id": "a67ab3f4",
   "metadata": {},
   "outputs": [
    {
     "data": {
      "text/html": [
       "<div>\n",
       "<style scoped>\n",
       "    .dataframe tbody tr th:only-of-type {\n",
       "        vertical-align: middle;\n",
       "    }\n",
       "\n",
       "    .dataframe tbody tr th {\n",
       "        vertical-align: top;\n",
       "    }\n",
       "\n",
       "    .dataframe thead th {\n",
       "        text-align: right;\n",
       "    }\n",
       "</style>\n",
       "<table border=\"1\" class=\"dataframe\">\n",
       "  <thead>\n",
       "    <tr style=\"text-align: right;\">\n",
       "      <th></th>\n",
       "      <th>Age</th>\n",
       "      <th>Kilometers_Driven</th>\n",
       "      <th>Mileage</th>\n",
       "      <th>Engine</th>\n",
       "      <th>Power</th>\n",
       "      <th>Price</th>\n",
       "    </tr>\n",
       "  </thead>\n",
       "  <tbody>\n",
       "    <tr>\n",
       "      <th>0</th>\n",
       "      <td>11</td>\n",
       "      <td>99000.0</td>\n",
       "      <td>12.05</td>\n",
       "      <td>2179.0</td>\n",
       "      <td>120.0</td>\n",
       "      <td>6.00</td>\n",
       "    </tr>\n",
       "    <tr>\n",
       "      <th>1</th>\n",
       "      <td>5</td>\n",
       "      <td>18678.0</td>\n",
       "      <td>21.10</td>\n",
       "      <td>998.0</td>\n",
       "      <td>100.0</td>\n",
       "      <td>8.32</td>\n",
       "    </tr>\n",
       "    <tr>\n",
       "      <th>2</th>\n",
       "      <td>10</td>\n",
       "      <td>197000.0</td>\n",
       "      <td>11.68</td>\n",
       "      <td>2498.0</td>\n",
       "      <td>112.0</td>\n",
       "      <td>4.00</td>\n",
       "    </tr>\n",
       "    <tr>\n",
       "      <th>3</th>\n",
       "      <td>9</td>\n",
       "      <td>45000.0</td>\n",
       "      <td>24.00</td>\n",
       "      <td>1120.0</td>\n",
       "      <td>70.0</td>\n",
       "      <td>3.49</td>\n",
       "    </tr>\n",
       "    <tr>\n",
       "      <th>4</th>\n",
       "      <td>12</td>\n",
       "      <td>65000.0</td>\n",
       "      <td>12.80</td>\n",
       "      <td>2494.0</td>\n",
       "      <td>102.0</td>\n",
       "      <td>6.40</td>\n",
       "    </tr>\n",
       "    <tr>\n",
       "      <th>...</th>\n",
       "      <td>...</td>\n",
       "      <td>...</td>\n",
       "      <td>...</td>\n",
       "      <td>...</td>\n",
       "      <td>...</td>\n",
       "      <td>...</td>\n",
       "    </tr>\n",
       "    <tr>\n",
       "      <th>5956</th>\n",
       "      <td>12</td>\n",
       "      <td>47000.0</td>\n",
       "      <td>13.90</td>\n",
       "      <td>1799.0</td>\n",
       "      <td>130.3</td>\n",
       "      <td>4.50</td>\n",
       "    </tr>\n",
       "    <tr>\n",
       "      <th>5957</th>\n",
       "      <td>10</td>\n",
       "      <td>63777.0</td>\n",
       "      <td>18.50</td>\n",
       "      <td>1197.0</td>\n",
       "      <td>82.9</td>\n",
       "      <td>3.67</td>\n",
       "    </tr>\n",
       "    <tr>\n",
       "      <th>5958</th>\n",
       "      <td>7</td>\n",
       "      <td>37806.0</td>\n",
       "      <td>20.40</td>\n",
       "      <td>1197.0</td>\n",
       "      <td>81.8</td>\n",
       "      <td>5.20</td>\n",
       "    </tr>\n",
       "    <tr>\n",
       "      <th>5959</th>\n",
       "      <td>7</td>\n",
       "      <td>22732.0</td>\n",
       "      <td>18.10</td>\n",
       "      <td>3498.0</td>\n",
       "      <td>306.0</td>\n",
       "      <td>55.54</td>\n",
       "    </tr>\n",
       "    <tr>\n",
       "      <th>5960</th>\n",
       "      <td>7</td>\n",
       "      <td>7000.0</td>\n",
       "      <td>20.36</td>\n",
       "      <td>1197.0</td>\n",
       "      <td>78.9</td>\n",
       "      <td>3.60</td>\n",
       "    </tr>\n",
       "  </tbody>\n",
       "</table>\n",
       "<p>5786 rows × 6 columns</p>\n",
       "</div>"
      ],
      "text/plain": [
       "      Age  Kilometers_Driven  Mileage  Engine  Power  Price\n",
       "0      11            99000.0    12.05  2179.0  120.0   6.00\n",
       "1       5            18678.0    21.10   998.0  100.0   8.32\n",
       "2      10           197000.0    11.68  2498.0  112.0   4.00\n",
       "3       9            45000.0    24.00  1120.0   70.0   3.49\n",
       "4      12            65000.0    12.80  2494.0  102.0   6.40\n",
       "...   ...                ...      ...     ...    ...    ...\n",
       "5956   12            47000.0    13.90  1799.0  130.3   4.50\n",
       "5957   10            63777.0    18.50  1197.0   82.9   3.67\n",
       "5958    7            37806.0    20.40  1197.0   81.8   5.20\n",
       "5959    7            22732.0    18.10  3498.0  306.0  55.54\n",
       "5960    7             7000.0    20.36  1197.0   78.9   3.60\n",
       "\n",
       "[5786 rows x 6 columns]"
      ]
     },
     "execution_count": 58,
     "metadata": {},
     "output_type": "execute_result"
    }
   ],
   "source": [
    "multi = df[['Age','Kilometers_Driven','Mileage','Engine','Power','Price']]\n",
    "multi"
   ]
  },
  {
   "cell_type": "code",
   "execution_count": 59,
   "id": "689491eb",
   "metadata": {},
   "outputs": [],
   "source": [
    "msk = np.random.rand(len(df)) < 0.8\n",
    "train = multi[msk]\n",
    "test = multi[~msk]"
   ]
  },
  {
   "cell_type": "code",
   "execution_count": 60,
   "id": "6fcd6ab1",
   "metadata": {},
   "outputs": [
    {
     "name": "stdout",
     "output_type": "stream",
     "text": [
      "Coefficients:  [[-9.47178797e-01 -1.92148768e-05  1.31410833e-02  1.94452549e-03\n",
      "   1.42677217e-01]]\n"
     ]
    }
   ],
   "source": [
    "from sklearn import linear_model\n",
    "regr = linear_model.LinearRegression()\n",
    "x = np.asanyarray(train[['Age', 'Kilometers_Driven', 'Mileage', 'Engine', 'Power']])\n",
    "y = np.asanyarray(train[['Price']])\n",
    "regr.fit(x, y)\n",
    "# The coefficients\n",
    "print ('Coefficients: ', regr.coef_)"
   ]
  },
  {
   "cell_type": "code",
   "execution_count": 61,
   "id": "4a6bdc29",
   "metadata": {},
   "outputs": [
    {
     "name": "stdout",
     "output_type": "stream",
     "text": [
      "Residual sum of squares: 58.92\n",
      "Variance score: 0.58\n"
     ]
    },
    {
     "name": "stderr",
     "output_type": "stream",
     "text": [
      "C:\\Users\\Lenovo\\anaconda3\\Lib\\site-packages\\sklearn\\base.py:457: UserWarning: X has feature names, but LinearRegression was fitted without feature names\n",
      "  warnings.warn(\n"
     ]
    }
   ],
   "source": [
    "y_hat = regr.predict(test[['Age', 'Kilometers_Driven', 'Mileage', 'Engine', 'Power']])\n",
    "x = np.asanyarray(test[['Age', 'Kilometers_Driven', 'Mileage', 'Engine', 'Power']])\n",
    "y = np.asanyarray(test[['Price']])\n",
    "print(\"Residual sum of squares: %.2f\"\n",
    "    % np.mean((y_hat - y) ** 2))\n",
    "\n",
    "# Explained variance score: 1 is perfect prediction\n",
    "print('Variance score: %.2f' % regr.score(x, y))"
   ]
  },
  {
   "cell_type": "markdown",
   "id": "08f5eb0a",
   "metadata": {},
   "source": [
    "### Polynomial Regression"
   ]
  },
  {
   "cell_type": "code",
   "execution_count": 62,
   "id": "7c27a0de",
   "metadata": {},
   "outputs": [
    {
     "data": {
      "text/html": [
       "<div>\n",
       "<style scoped>\n",
       "    .dataframe tbody tr th:only-of-type {\n",
       "        vertical-align: middle;\n",
       "    }\n",
       "\n",
       "    .dataframe tbody tr th {\n",
       "        vertical-align: top;\n",
       "    }\n",
       "\n",
       "    .dataframe thead th {\n",
       "        text-align: right;\n",
       "    }\n",
       "</style>\n",
       "<table border=\"1\" class=\"dataframe\">\n",
       "  <thead>\n",
       "    <tr style=\"text-align: right;\">\n",
       "      <th></th>\n",
       "      <th>Age</th>\n",
       "      <th>Kilometers_Driven</th>\n",
       "      <th>Mileage</th>\n",
       "      <th>Engine</th>\n",
       "      <th>Power</th>\n",
       "      <th>Price</th>\n",
       "    </tr>\n",
       "  </thead>\n",
       "  <tbody>\n",
       "    <tr>\n",
       "      <th>0</th>\n",
       "      <td>11</td>\n",
       "      <td>99000.0</td>\n",
       "      <td>12.05</td>\n",
       "      <td>2179.0</td>\n",
       "      <td>120.0</td>\n",
       "      <td>6.00</td>\n",
       "    </tr>\n",
       "    <tr>\n",
       "      <th>1</th>\n",
       "      <td>5</td>\n",
       "      <td>18678.0</td>\n",
       "      <td>21.10</td>\n",
       "      <td>998.0</td>\n",
       "      <td>100.0</td>\n",
       "      <td>8.32</td>\n",
       "    </tr>\n",
       "    <tr>\n",
       "      <th>2</th>\n",
       "      <td>10</td>\n",
       "      <td>197000.0</td>\n",
       "      <td>11.68</td>\n",
       "      <td>2498.0</td>\n",
       "      <td>112.0</td>\n",
       "      <td>4.00</td>\n",
       "    </tr>\n",
       "    <tr>\n",
       "      <th>3</th>\n",
       "      <td>9</td>\n",
       "      <td>45000.0</td>\n",
       "      <td>24.00</td>\n",
       "      <td>1120.0</td>\n",
       "      <td>70.0</td>\n",
       "      <td>3.49</td>\n",
       "    </tr>\n",
       "    <tr>\n",
       "      <th>4</th>\n",
       "      <td>12</td>\n",
       "      <td>65000.0</td>\n",
       "      <td>12.80</td>\n",
       "      <td>2494.0</td>\n",
       "      <td>102.0</td>\n",
       "      <td>6.40</td>\n",
       "    </tr>\n",
       "    <tr>\n",
       "      <th>...</th>\n",
       "      <td>...</td>\n",
       "      <td>...</td>\n",
       "      <td>...</td>\n",
       "      <td>...</td>\n",
       "      <td>...</td>\n",
       "      <td>...</td>\n",
       "    </tr>\n",
       "    <tr>\n",
       "      <th>5956</th>\n",
       "      <td>12</td>\n",
       "      <td>47000.0</td>\n",
       "      <td>13.90</td>\n",
       "      <td>1799.0</td>\n",
       "      <td>130.3</td>\n",
       "      <td>4.50</td>\n",
       "    </tr>\n",
       "    <tr>\n",
       "      <th>5957</th>\n",
       "      <td>10</td>\n",
       "      <td>63777.0</td>\n",
       "      <td>18.50</td>\n",
       "      <td>1197.0</td>\n",
       "      <td>82.9</td>\n",
       "      <td>3.67</td>\n",
       "    </tr>\n",
       "    <tr>\n",
       "      <th>5958</th>\n",
       "      <td>7</td>\n",
       "      <td>37806.0</td>\n",
       "      <td>20.40</td>\n",
       "      <td>1197.0</td>\n",
       "      <td>81.8</td>\n",
       "      <td>5.20</td>\n",
       "    </tr>\n",
       "    <tr>\n",
       "      <th>5959</th>\n",
       "      <td>7</td>\n",
       "      <td>22732.0</td>\n",
       "      <td>18.10</td>\n",
       "      <td>3498.0</td>\n",
       "      <td>306.0</td>\n",
       "      <td>55.54</td>\n",
       "    </tr>\n",
       "    <tr>\n",
       "      <th>5960</th>\n",
       "      <td>7</td>\n",
       "      <td>7000.0</td>\n",
       "      <td>20.36</td>\n",
       "      <td>1197.0</td>\n",
       "      <td>78.9</td>\n",
       "      <td>3.60</td>\n",
       "    </tr>\n",
       "  </tbody>\n",
       "</table>\n",
       "<p>5786 rows × 6 columns</p>\n",
       "</div>"
      ],
      "text/plain": [
       "      Age  Kilometers_Driven  Mileage  Engine  Power  Price\n",
       "0      11            99000.0    12.05  2179.0  120.0   6.00\n",
       "1       5            18678.0    21.10   998.0  100.0   8.32\n",
       "2      10           197000.0    11.68  2498.0  112.0   4.00\n",
       "3       9            45000.0    24.00  1120.0   70.0   3.49\n",
       "4      12            65000.0    12.80  2494.0  102.0   6.40\n",
       "...   ...                ...      ...     ...    ...    ...\n",
       "5956   12            47000.0    13.90  1799.0  130.3   4.50\n",
       "5957   10            63777.0    18.50  1197.0   82.9   3.67\n",
       "5958    7            37806.0    20.40  1197.0   81.8   5.20\n",
       "5959    7            22732.0    18.10  3498.0  306.0  55.54\n",
       "5960    7             7000.0    20.36  1197.0   78.9   3.60\n",
       "\n",
       "[5786 rows x 6 columns]"
      ]
     },
     "execution_count": 62,
     "metadata": {},
     "output_type": "execute_result"
    }
   ],
   "source": [
    "polym = df[['Age','Kilometers_Driven','Mileage','Engine','Power','Price']]\n",
    "polym"
   ]
  },
  {
   "cell_type": "code",
   "execution_count": 63,
   "id": "8d0d7f1f",
   "metadata": {},
   "outputs": [],
   "source": [
    "msk = np.random.rand(len(df)) < 0.8\n",
    "train = polym[msk]\n",
    "test = polym[~msk]"
   ]
  },
  {
   "cell_type": "code",
   "execution_count": 64,
   "id": "76747be9",
   "metadata": {},
   "outputs": [
    {
     "data": {
      "text/plain": [
       "array([[  1.,  10., 100.],\n",
       "       [  1.,   9.,  81.],\n",
       "       [  1.,  12., 144.],\n",
       "       ...,\n",
       "       [  1.,   7.,  49.],\n",
       "       [  1.,   7.,  49.],\n",
       "       [  1.,   7.,  49.]])"
      ]
     },
     "execution_count": 64,
     "metadata": {},
     "output_type": "execute_result"
    }
   ],
   "source": [
    "from sklearn.preprocessing import PolynomialFeatures\n",
    "from sklearn import linear_model\n",
    "train_x = np.asanyarray(train[['Age']]) \n",
    "train_y = np.asanyarray(train[['Price']]) \n",
    "\n",
    "test_x = np.asanyarray(test[['Age']]) \n",
    "test_y = np.asanyarray(test[['Price']]) \n",
    "\n",
    "\n",
    "poly = PolynomialFeatures(degree=2)\n",
    "train_x_poly = poly.fit_transform(train_x)\n",
    "train_x_poly"
   ]
  },
  {
   "cell_type": "code",
   "execution_count": 65,
   "id": "1a224c9a",
   "metadata": {},
   "outputs": [
    {
     "name": "stdout",
     "output_type": "stream",
     "text": [
      "Coefficients:  [[ 0.         -2.26545202  0.0550413 ]]\n",
      "Intercept:  [25.53176851]\n"
     ]
    }
   ],
   "source": [
    "clf = linear_model.LinearRegression()\n",
    "train_y_ = clf.fit(train_x_poly, train_y)\n",
    "# The Coefficients\n",
    "print ('Coefficients: ', clf.coef_)\n",
    "print ('Intercept: ', clf.intercept_)"
   ]
  },
  {
   "cell_type": "code",
   "execution_count": 66,
   "id": "0e076ccd",
   "metadata": {},
   "outputs": [
    {
     "data": {
      "text/plain": [
       "Text(0, 0.5, 'Price')"
      ]
     },
     "execution_count": 66,
     "metadata": {},
     "output_type": "execute_result"
    },
    {
     "data": {
      "image/png": "[encoded data removed]",
      "text/plain": [
       "<Figure size 640x480 with 1 Axes>"
      ]
     },
     "metadata": {},
     "output_type": "display_data"
    }
   ],
   "source": [
    "plt.scatter(train.Age, train.Price, color='blue')\n",
    "XX = np.arange(0.1, 30.0, 0.1)\n",
    "yy = clf.intercept_[0]+ clf.coef_[0][1]*XX+ clf.coef_[0][2]*np.power(XX, 2)\n",
    "plt.plot(XX, yy, '-r')\n",
    "plt.xlabel(\"Age\")\n",
    "plt.ylabel(\"Price\")"
   ]
  },
  {
   "cell_type": "code",
   "execution_count": 67,
   "id": "7fe4fd8b",
   "metadata": {},
   "outputs": [
    {
     "name": "stdout",
     "output_type": "stream",
     "text": [
      "Mean absolute error: 7.13\n",
      "Residual sum of squares (MSE): 142.61\n",
      "R2-score: 0.07\n"
     ]
    }
   ],
   "source": [
    "from sklearn.metrics import r2_score\n",
    "\n",
    "test_x_poly = poly.transform(test_x)\n",
    "test_y_ = clf.predict(test_x_poly)\n",
    "\n",
    "print(\"Mean absolute error: %.2f\" % np.mean(np.absolute(test_y_ - test_y)))\n",
    "print(\"Residual sum of squares (MSE): %.2f\" % np.mean((test_y_ - test_y) ** 2))\n",
    "print(\"R2-score: %.2f\" % r2_score(test_y,test_y_) )"
   ]
  },
  {
   "cell_type": "markdown",
   "id": "8f89ce80",
   "metadata": {},
   "source": [
    "## <div align=\"center\"> FINAL PROJECT - INDIVIDU </div>"
   ]
  },
  {
   "cell_type": "markdown",
   "id": "0d6b0ada",
   "metadata": {},
   "source": [
    "**VISUALISASI**"
   ]
  },
  {
   "cell_type": "code",
   "execution_count": 43,
   "id": "5491de01",
   "metadata": {},
   "outputs": [
    {
     "data": {
      "text/plain": [
       "array([[<Axes: title={'center': 'Age'}>,\n",
       "        <Axes: title={'center': 'Kilometers_Driven'}>],\n",
       "       [<Axes: title={'center': 'Mileage'}>,\n",
       "        <Axes: title={'center': 'Engine'}>],\n",
       "       [<Axes: title={'center': 'Power'}>,\n",
       "        <Axes: title={'center': 'Price'}>]], dtype=object)"
      ]
     },
     "execution_count": 43,
     "metadata": {},
     "output_type": "execute_result"
    },
    {
     "data": {
      "image/png": "[encoded data removed]",
      "text/plain": [
       "<Figure size 640x480 with 6 Axes>"
      ]
     },
     "metadata": {},
     "output_type": "display_data"
    }
   ],
   "source": [
    "regresi.hist()"
   ]
  },
  {
   "cell_type": "markdown",
   "id": "bd1fc3b0",
   "metadata": {},
   "source": [
    "**HANDLING OUTLIERS**"
   ]
  },
  {
   "cell_type": "code",
   "execution_count": 82,
   "id": "afa99891",
   "metadata": {},
   "outputs": [
    {
     "data": {
      "text/html": [
       "<div>\n",
       "<style scoped>\n",
       "    .dataframe tbody tr th:only-of-type {\n",
       "        vertical-align: middle;\n",
       "    }\n",
       "\n",
       "    .dataframe tbody tr th {\n",
       "        vertical-align: top;\n",
       "    }\n",
       "\n",
       "    .dataframe thead th {\n",
       "        text-align: right;\n",
       "    }\n",
       "</style>\n",
       "<table border=\"1\" class=\"dataframe\">\n",
       "  <thead>\n",
       "    <tr style=\"text-align: right;\">\n",
       "      <th></th>\n",
       "      <th>Age</th>\n",
       "    </tr>\n",
       "  </thead>\n",
       "  <tbody>\n",
       "    <tr>\n",
       "      <th>0</th>\n",
       "      <td>11</td>\n",
       "    </tr>\n",
       "    <tr>\n",
       "      <th>1</th>\n",
       "      <td>5</td>\n",
       "    </tr>\n",
       "    <tr>\n",
       "      <th>2</th>\n",
       "      <td>10</td>\n",
       "    </tr>\n",
       "    <tr>\n",
       "      <th>3</th>\n",
       "      <td>9</td>\n",
       "    </tr>\n",
       "    <tr>\n",
       "      <th>4</th>\n",
       "      <td>12</td>\n",
       "    </tr>\n",
       "    <tr>\n",
       "      <th>...</th>\n",
       "      <td>...</td>\n",
       "    </tr>\n",
       "    <tr>\n",
       "      <th>5956</th>\n",
       "      <td>12</td>\n",
       "    </tr>\n",
       "    <tr>\n",
       "      <th>5957</th>\n",
       "      <td>10</td>\n",
       "    </tr>\n",
       "    <tr>\n",
       "      <th>5958</th>\n",
       "      <td>7</td>\n",
       "    </tr>\n",
       "    <tr>\n",
       "      <th>5959</th>\n",
       "      <td>7</td>\n",
       "    </tr>\n",
       "    <tr>\n",
       "      <th>5960</th>\n",
       "      <td>7</td>\n",
       "    </tr>\n",
       "  </tbody>\n",
       "</table>\n",
       "<p>5786 rows × 1 columns</p>\n",
       "</div>"
      ],
      "text/plain": [
       "      Age\n",
       "0      11\n",
       "1       5\n",
       "2      10\n",
       "3       9\n",
       "4      12\n",
       "...   ...\n",
       "5956   12\n",
       "5957   10\n",
       "5958    7\n",
       "5959    7\n",
       "5960    7\n",
       "\n",
       "[5786 rows x 1 columns]"
      ]
     },
     "execution_count": 82,
     "metadata": {},
     "output_type": "execute_result"
    }
   ],
   "source": [
    "df_outlier = df[['Age']]\n",
    "df_outlier"
   ]
  },
  {
   "cell_type": "code",
   "execution_count": 185,
   "id": "0885dd22",
   "metadata": {},
   "outputs": [
    {
     "data": {
      "text/plain": [
       "<Axes: >"
      ]
     },
     "execution_count": 185,
     "metadata": {},
     "output_type": "execute_result"
    },
    {
     "data": {
      "image/png": "[encoded data removed]",
      "text/plain": [
       "<Figure size 1500x500 with 1 Axes>"
      ]
     },
     "metadata": {},
     "output_type": "display_data"
    }
   ],
   "source": [
    "fig, ax = plt.subplots(figsize=(15,5))\n",
    "sns.boxplot(data=df['Age'])"
   ]
  },
  {
   "cell_type": "code",
   "execution_count": 91,
   "id": "df2fb700",
   "metadata": {},
   "outputs": [
    {
     "data": {
      "text/plain": [
       "(7.0, 11.0)"
      ]
     },
     "execution_count": 91,
     "metadata": {},
     "output_type": "execute_result"
    }
   ],
   "source": [
    "Q1 = df['Age'].quantile(0.25)\n",
    "Q3 = df['Age'].quantile(0.75)\n",
    "\n",
    "Q1, Q3"
   ]
  },
  {
   "cell_type": "code",
   "execution_count": 92,
   "id": "b1f77fee",
   "metadata": {},
   "outputs": [
    {
     "data": {
      "text/plain": [
       "4.0"
      ]
     },
     "execution_count": 92,
     "metadata": {},
     "output_type": "execute_result"
    }
   ],
   "source": [
    "IQR = Q3 - Q1\n",
    "IQR"
   ]
  },
  {
   "cell_type": "code",
   "execution_count": 93,
   "id": "4f602104",
   "metadata": {},
   "outputs": [
    {
     "data": {
      "text/plain": [
       "(1.0, 17.0)"
      ]
     },
     "execution_count": 93,
     "metadata": {},
     "output_type": "execute_result"
    }
   ],
   "source": [
    "lower_limit = Q1 - 1.5*IQR\n",
    "upper_limit = Q3 + 1.5*IQR\n",
    "\n",
    "lower_limit, upper_limit"
   ]
  },
  {
   "cell_type": "code",
   "execution_count": 95,
   "id": "75c2836e",
   "metadata": {},
   "outputs": [
    {
     "data": {
      "text/html": [
       "<div>\n",
       "<style scoped>\n",
       "    .dataframe tbody tr th:only-of-type {\n",
       "        vertical-align: middle;\n",
       "    }\n",
       "\n",
       "    .dataframe tbody tr th {\n",
       "        vertical-align: top;\n",
       "    }\n",
       "\n",
       "    .dataframe thead th {\n",
       "        text-align: right;\n",
       "    }\n",
       "</style>\n",
       "<table border=\"1\" class=\"dataframe\">\n",
       "  <thead>\n",
       "    <tr style=\"text-align: right;\">\n",
       "      <th></th>\n",
       "      <th>Name</th>\n",
       "      <th>Location</th>\n",
       "      <th>Year</th>\n",
       "      <th>Kilometers_Driven</th>\n",
       "      <th>Fuel_Type</th>\n",
       "      <th>Transmission</th>\n",
       "      <th>Owner_Type</th>\n",
       "      <th>Mileage</th>\n",
       "      <th>Engine</th>\n",
       "      <th>Power</th>\n",
       "      <th>Colour</th>\n",
       "      <th>Seats</th>\n",
       "      <th>No. of Doors</th>\n",
       "      <th>New_Price</th>\n",
       "      <th>Price</th>\n",
       "      <th>Age</th>\n",
       "      <th>Year Quarter</th>\n",
       "    </tr>\n",
       "  </thead>\n",
       "  <tbody>\n",
       "    <tr>\n",
       "      <th>0</th>\n",
       "      <td>Mahindra Scorpio</td>\n",
       "      <td>Pune</td>\n",
       "      <td>2012</td>\n",
       "      <td>99000.0</td>\n",
       "      <td>Diesel</td>\n",
       "      <td>1</td>\n",
       "      <td>3</td>\n",
       "      <td>12.05</td>\n",
       "      <td>2179.0</td>\n",
       "      <td>120.0</td>\n",
       "      <td>Black/Silver</td>\n",
       "      <td>8.0</td>\n",
       "      <td>5.0</td>\n",
       "      <td>NaN</td>\n",
       "      <td>6.00</td>\n",
       "      <td>11</td>\n",
       "      <td>Quarter 2</td>\n",
       "    </tr>\n",
       "    <tr>\n",
       "      <th>1</th>\n",
       "      <td>Maruti Baleno</td>\n",
       "      <td>Kochi</td>\n",
       "      <td>2018</td>\n",
       "      <td>18678.0</td>\n",
       "      <td>Petrol</td>\n",
       "      <td>1</td>\n",
       "      <td>0</td>\n",
       "      <td>21.10</td>\n",
       "      <td>998.0</td>\n",
       "      <td>100.0</td>\n",
       "      <td>Others</td>\n",
       "      <td>5.0</td>\n",
       "      <td>4.0</td>\n",
       "      <td>NaN</td>\n",
       "      <td>8.32</td>\n",
       "      <td>5</td>\n",
       "      <td>Quarter 3</td>\n",
       "    </tr>\n",
       "    <tr>\n",
       "      <th>2</th>\n",
       "      <td>Mahindra Xylo</td>\n",
       "      <td>Bangalore</td>\n",
       "      <td>2013</td>\n",
       "      <td>197000.0</td>\n",
       "      <td>Diesel</td>\n",
       "      <td>1</td>\n",
       "      <td>0</td>\n",
       "      <td>11.68</td>\n",
       "      <td>2498.0</td>\n",
       "      <td>112.0</td>\n",
       "      <td>White</td>\n",
       "      <td>7.0</td>\n",
       "      <td>5.0</td>\n",
       "      <td>NaN</td>\n",
       "      <td>4.00</td>\n",
       "      <td>10</td>\n",
       "      <td>Quarter 3</td>\n",
       "    </tr>\n",
       "    <tr>\n",
       "      <th>3</th>\n",
       "      <td>Hyundai Grand</td>\n",
       "      <td>Delhi</td>\n",
       "      <td>2014</td>\n",
       "      <td>45000.0</td>\n",
       "      <td>Diesel</td>\n",
       "      <td>1</td>\n",
       "      <td>0</td>\n",
       "      <td>24.00</td>\n",
       "      <td>1120.0</td>\n",
       "      <td>70.0</td>\n",
       "      <td>White</td>\n",
       "      <td>5.0</td>\n",
       "      <td>4.0</td>\n",
       "      <td>NaN</td>\n",
       "      <td>3.49</td>\n",
       "      <td>9</td>\n",
       "      <td>Quarter 3</td>\n",
       "    </tr>\n",
       "    <tr>\n",
       "      <th>4</th>\n",
       "      <td>Toyota Innova</td>\n",
       "      <td>Delhi</td>\n",
       "      <td>2011</td>\n",
       "      <td>65000.0</td>\n",
       "      <td>Diesel</td>\n",
       "      <td>1</td>\n",
       "      <td>0</td>\n",
       "      <td>12.80</td>\n",
       "      <td>2494.0</td>\n",
       "      <td>102.0</td>\n",
       "      <td>Others</td>\n",
       "      <td>8.0</td>\n",
       "      <td>5.0</td>\n",
       "      <td>NaN</td>\n",
       "      <td>6.40</td>\n",
       "      <td>12</td>\n",
       "      <td>Quarter 2</td>\n",
       "    </tr>\n",
       "    <tr>\n",
       "      <th>...</th>\n",
       "      <td>...</td>\n",
       "      <td>...</td>\n",
       "      <td>...</td>\n",
       "      <td>...</td>\n",
       "      <td>...</td>\n",
       "      <td>...</td>\n",
       "      <td>...</td>\n",
       "      <td>...</td>\n",
       "      <td>...</td>\n",
       "      <td>...</td>\n",
       "      <td>...</td>\n",
       "      <td>...</td>\n",
       "      <td>...</td>\n",
       "      <td>...</td>\n",
       "      <td>...</td>\n",
       "      <td>...</td>\n",
       "      <td>...</td>\n",
       "    </tr>\n",
       "    <tr>\n",
       "      <th>5956</th>\n",
       "      <td>Honda Civic</td>\n",
       "      <td>Pune</td>\n",
       "      <td>2011</td>\n",
       "      <td>47000.0</td>\n",
       "      <td>Petrol</td>\n",
       "      <td>0</td>\n",
       "      <td>2</td>\n",
       "      <td>13.90</td>\n",
       "      <td>1799.0</td>\n",
       "      <td>130.3</td>\n",
       "      <td>Others</td>\n",
       "      <td>5.0</td>\n",
       "      <td>4.0</td>\n",
       "      <td>NaN</td>\n",
       "      <td>4.50</td>\n",
       "      <td>12</td>\n",
       "      <td>Quarter 2</td>\n",
       "    </tr>\n",
       "    <tr>\n",
       "      <th>5957</th>\n",
       "      <td>Hyundai i20</td>\n",
       "      <td>Delhi</td>\n",
       "      <td>2013</td>\n",
       "      <td>63777.0</td>\n",
       "      <td>Petrol</td>\n",
       "      <td>1</td>\n",
       "      <td>0</td>\n",
       "      <td>18.50</td>\n",
       "      <td>1197.0</td>\n",
       "      <td>82.9</td>\n",
       "      <td>Black/Silver</td>\n",
       "      <td>5.0</td>\n",
       "      <td>4.0</td>\n",
       "      <td>NaN</td>\n",
       "      <td>3.67</td>\n",
       "      <td>10</td>\n",
       "      <td>Quarter 3</td>\n",
       "    </tr>\n",
       "    <tr>\n",
       "      <th>5958</th>\n",
       "      <td>Maruti Swift</td>\n",
       "      <td>Coimbatore</td>\n",
       "      <td>2016</td>\n",
       "      <td>37806.0</td>\n",
       "      <td>Petrol</td>\n",
       "      <td>1</td>\n",
       "      <td>0</td>\n",
       "      <td>20.40</td>\n",
       "      <td>1197.0</td>\n",
       "      <td>81.8</td>\n",
       "      <td>Black/Silver</td>\n",
       "      <td>5.0</td>\n",
       "      <td>4.0</td>\n",
       "      <td>NaN</td>\n",
       "      <td>5.20</td>\n",
       "      <td>7</td>\n",
       "      <td>Quarter 3</td>\n",
       "    </tr>\n",
       "    <tr>\n",
       "      <th>5959</th>\n",
       "      <td>Mercedes-Benz SLK-Class</td>\n",
       "      <td>Coimbatore</td>\n",
       "      <td>2016</td>\n",
       "      <td>22732.0</td>\n",
       "      <td>Petrol</td>\n",
       "      <td>0</td>\n",
       "      <td>0</td>\n",
       "      <td>18.10</td>\n",
       "      <td>3498.0</td>\n",
       "      <td>306.0</td>\n",
       "      <td>Black/Silver</td>\n",
       "      <td>2.0</td>\n",
       "      <td>2.0</td>\n",
       "      <td>NaN</td>\n",
       "      <td>55.54</td>\n",
       "      <td>7</td>\n",
       "      <td>Quarter 3</td>\n",
       "    </tr>\n",
       "    <tr>\n",
       "      <th>5960</th>\n",
       "      <td>Hyundai i10</td>\n",
       "      <td>Kolkata</td>\n",
       "      <td>2016</td>\n",
       "      <td>7000.0</td>\n",
       "      <td>Petrol</td>\n",
       "      <td>1</td>\n",
       "      <td>0</td>\n",
       "      <td>20.36</td>\n",
       "      <td>1197.0</td>\n",
       "      <td>78.9</td>\n",
       "      <td>White</td>\n",
       "      <td>5.0</td>\n",
       "      <td>4.0</td>\n",
       "      <td>NaN</td>\n",
       "      <td>3.60</td>\n",
       "      <td>7</td>\n",
       "      <td>Quarter 3</td>\n",
       "    </tr>\n",
       "  </tbody>\n",
       "</table>\n",
       "<p>5619 rows × 17 columns</p>\n",
       "</div>"
      ],
      "text/plain": [
       "                         Name    Location  Year  Kilometers_Driven Fuel_Type  \\\n",
       "0            Mahindra Scorpio        Pune  2012            99000.0    Diesel   \n",
       "1               Maruti Baleno       Kochi  2018            18678.0    Petrol   \n",
       "2               Mahindra Xylo   Bangalore  2013           197000.0    Diesel   \n",
       "3               Hyundai Grand       Delhi  2014            45000.0    Diesel   \n",
       "4               Toyota Innova       Delhi  2011            65000.0    Diesel   \n",
       "...                       ...         ...   ...                ...       ...   \n",
       "5956              Honda Civic        Pune  2011            47000.0    Petrol   \n",
       "5957              Hyundai i20       Delhi  2013            63777.0    Petrol   \n",
       "5958             Maruti Swift  Coimbatore  2016            37806.0    Petrol   \n",
       "5959  Mercedes-Benz SLK-Class  Coimbatore  2016            22732.0    Petrol   \n",
       "5960              Hyundai i10     Kolkata  2016             7000.0    Petrol   \n",
       "\n",
       "      Transmission  Owner_Type  Mileage  Engine  Power        Colour  Seats  \\\n",
       "0                1           3    12.05  2179.0  120.0  Black/Silver    8.0   \n",
       "1                1           0    21.10   998.0  100.0        Others    5.0   \n",
       "2                1           0    11.68  2498.0  112.0         White    7.0   \n",
       "3                1           0    24.00  1120.0   70.0         White    5.0   \n",
       "4                1           0    12.80  2494.0  102.0        Others    8.0   \n",
       "...            ...         ...      ...     ...    ...           ...    ...   \n",
       "5956             0           2    13.90  1799.0  130.3        Others    5.0   \n",
       "5957             1           0    18.50  1197.0   82.9  Black/Silver    5.0   \n",
       "5958             1           0    20.40  1197.0   81.8  Black/Silver    5.0   \n",
       "5959             0           0    18.10  3498.0  306.0  Black/Silver    2.0   \n",
       "5960             1           0    20.36  1197.0   78.9         White    5.0   \n",
       "\n",
       "      No. of Doors New_Price  Price  Age Year Quarter  \n",
       "0              5.0       NaN   6.00   11    Quarter 2  \n",
       "1              4.0       NaN   8.32    5    Quarter 3  \n",
       "2              5.0       NaN   4.00   10    Quarter 3  \n",
       "3              4.0       NaN   3.49    9    Quarter 3  \n",
       "4              5.0       NaN   6.40   12    Quarter 2  \n",
       "...            ...       ...    ...  ...          ...  \n",
       "5956           4.0       NaN   4.50   12    Quarter 2  \n",
       "5957           4.0       NaN   3.67   10    Quarter 3  \n",
       "5958           4.0       NaN   5.20    7    Quarter 3  \n",
       "5959           2.0       NaN  55.54    7    Quarter 3  \n",
       "5960           4.0       NaN   3.60    7    Quarter 3  \n",
       "\n",
       "[5619 rows x 17 columns]"
      ]
     },
     "execution_count": 95,
     "metadata": {},
     "output_type": "execute_result"
    }
   ],
   "source": [
    "df[(df['Age'] > lower_limit) & (df['Age'] < upper_limit) ]"
   ]
  },
  {
   "cell_type": "code",
   "execution_count": 96,
   "id": "ea56cadf",
   "metadata": {},
   "outputs": [
    {
     "data": {
      "text/html": [
       "<div>\n",
       "<style scoped>\n",
       "    .dataframe tbody tr th:only-of-type {\n",
       "        vertical-align: middle;\n",
       "    }\n",
       "\n",
       "    .dataframe tbody tr th {\n",
       "        vertical-align: top;\n",
       "    }\n",
       "\n",
       "    .dataframe thead th {\n",
       "        text-align: right;\n",
       "    }\n",
       "</style>\n",
       "<table border=\"1\" class=\"dataframe\">\n",
       "  <thead>\n",
       "    <tr style=\"text-align: right;\">\n",
       "      <th></th>\n",
       "      <th>Name</th>\n",
       "      <th>Location</th>\n",
       "      <th>Year</th>\n",
       "      <th>Kilometers_Driven</th>\n",
       "      <th>Fuel_Type</th>\n",
       "      <th>Transmission</th>\n",
       "      <th>Owner_Type</th>\n",
       "      <th>Mileage</th>\n",
       "      <th>Engine</th>\n",
       "      <th>Power</th>\n",
       "      <th>Colour</th>\n",
       "      <th>Seats</th>\n",
       "      <th>No. of Doors</th>\n",
       "      <th>New_Price</th>\n",
       "      <th>Price</th>\n",
       "      <th>Age</th>\n",
       "      <th>Year Quarter</th>\n",
       "    </tr>\n",
       "  </thead>\n",
       "  <tbody>\n",
       "    <tr>\n",
       "      <th>0</th>\n",
       "      <td>Mahindra Scorpio</td>\n",
       "      <td>Pune</td>\n",
       "      <td>2012</td>\n",
       "      <td>99000.0</td>\n",
       "      <td>Diesel</td>\n",
       "      <td>1</td>\n",
       "      <td>3</td>\n",
       "      <td>12.05</td>\n",
       "      <td>2179.0</td>\n",
       "      <td>120.0</td>\n",
       "      <td>Black/Silver</td>\n",
       "      <td>8.0</td>\n",
       "      <td>5.0</td>\n",
       "      <td>NaN</td>\n",
       "      <td>6.00</td>\n",
       "      <td>11</td>\n",
       "      <td>Quarter 2</td>\n",
       "    </tr>\n",
       "    <tr>\n",
       "      <th>1</th>\n",
       "      <td>Maruti Baleno</td>\n",
       "      <td>Kochi</td>\n",
       "      <td>2018</td>\n",
       "      <td>18678.0</td>\n",
       "      <td>Petrol</td>\n",
       "      <td>1</td>\n",
       "      <td>0</td>\n",
       "      <td>21.10</td>\n",
       "      <td>998.0</td>\n",
       "      <td>100.0</td>\n",
       "      <td>Others</td>\n",
       "      <td>5.0</td>\n",
       "      <td>4.0</td>\n",
       "      <td>NaN</td>\n",
       "      <td>8.32</td>\n",
       "      <td>5</td>\n",
       "      <td>Quarter 3</td>\n",
       "    </tr>\n",
       "    <tr>\n",
       "      <th>2</th>\n",
       "      <td>Mahindra Xylo</td>\n",
       "      <td>Bangalore</td>\n",
       "      <td>2013</td>\n",
       "      <td>197000.0</td>\n",
       "      <td>Diesel</td>\n",
       "      <td>1</td>\n",
       "      <td>0</td>\n",
       "      <td>11.68</td>\n",
       "      <td>2498.0</td>\n",
       "      <td>112.0</td>\n",
       "      <td>White</td>\n",
       "      <td>7.0</td>\n",
       "      <td>5.0</td>\n",
       "      <td>NaN</td>\n",
       "      <td>4.00</td>\n",
       "      <td>10</td>\n",
       "      <td>Quarter 3</td>\n",
       "    </tr>\n",
       "    <tr>\n",
       "      <th>3</th>\n",
       "      <td>Hyundai Grand</td>\n",
       "      <td>Delhi</td>\n",
       "      <td>2014</td>\n",
       "      <td>45000.0</td>\n",
       "      <td>Diesel</td>\n",
       "      <td>1</td>\n",
       "      <td>0</td>\n",
       "      <td>24.00</td>\n",
       "      <td>1120.0</td>\n",
       "      <td>70.0</td>\n",
       "      <td>White</td>\n",
       "      <td>5.0</td>\n",
       "      <td>4.0</td>\n",
       "      <td>NaN</td>\n",
       "      <td>3.49</td>\n",
       "      <td>9</td>\n",
       "      <td>Quarter 3</td>\n",
       "    </tr>\n",
       "    <tr>\n",
       "      <th>4</th>\n",
       "      <td>Toyota Innova</td>\n",
       "      <td>Delhi</td>\n",
       "      <td>2011</td>\n",
       "      <td>65000.0</td>\n",
       "      <td>Diesel</td>\n",
       "      <td>1</td>\n",
       "      <td>0</td>\n",
       "      <td>12.80</td>\n",
       "      <td>2494.0</td>\n",
       "      <td>102.0</td>\n",
       "      <td>Others</td>\n",
       "      <td>8.0</td>\n",
       "      <td>5.0</td>\n",
       "      <td>NaN</td>\n",
       "      <td>6.40</td>\n",
       "      <td>12</td>\n",
       "      <td>Quarter 2</td>\n",
       "    </tr>\n",
       "    <tr>\n",
       "      <th>...</th>\n",
       "      <td>...</td>\n",
       "      <td>...</td>\n",
       "      <td>...</td>\n",
       "      <td>...</td>\n",
       "      <td>...</td>\n",
       "      <td>...</td>\n",
       "      <td>...</td>\n",
       "      <td>...</td>\n",
       "      <td>...</td>\n",
       "      <td>...</td>\n",
       "      <td>...</td>\n",
       "      <td>...</td>\n",
       "      <td>...</td>\n",
       "      <td>...</td>\n",
       "      <td>...</td>\n",
       "      <td>...</td>\n",
       "      <td>...</td>\n",
       "    </tr>\n",
       "    <tr>\n",
       "      <th>5956</th>\n",
       "      <td>Honda Civic</td>\n",
       "      <td>Pune</td>\n",
       "      <td>2011</td>\n",
       "      <td>47000.0</td>\n",
       "      <td>Petrol</td>\n",
       "      <td>0</td>\n",
       "      <td>2</td>\n",
       "      <td>13.90</td>\n",
       "      <td>1799.0</td>\n",
       "      <td>130.3</td>\n",
       "      <td>Others</td>\n",
       "      <td>5.0</td>\n",
       "      <td>4.0</td>\n",
       "      <td>NaN</td>\n",
       "      <td>4.50</td>\n",
       "      <td>12</td>\n",
       "      <td>Quarter 2</td>\n",
       "    </tr>\n",
       "    <tr>\n",
       "      <th>5957</th>\n",
       "      <td>Hyundai i20</td>\n",
       "      <td>Delhi</td>\n",
       "      <td>2013</td>\n",
       "      <td>63777.0</td>\n",
       "      <td>Petrol</td>\n",
       "      <td>1</td>\n",
       "      <td>0</td>\n",
       "      <td>18.50</td>\n",
       "      <td>1197.0</td>\n",
       "      <td>82.9</td>\n",
       "      <td>Black/Silver</td>\n",
       "      <td>5.0</td>\n",
       "      <td>4.0</td>\n",
       "      <td>NaN</td>\n",
       "      <td>3.67</td>\n",
       "      <td>10</td>\n",
       "      <td>Quarter 3</td>\n",
       "    </tr>\n",
       "    <tr>\n",
       "      <th>5958</th>\n",
       "      <td>Maruti Swift</td>\n",
       "      <td>Coimbatore</td>\n",
       "      <td>2016</td>\n",
       "      <td>37806.0</td>\n",
       "      <td>Petrol</td>\n",
       "      <td>1</td>\n",
       "      <td>0</td>\n",
       "      <td>20.40</td>\n",
       "      <td>1197.0</td>\n",
       "      <td>81.8</td>\n",
       "      <td>Black/Silver</td>\n",
       "      <td>5.0</td>\n",
       "      <td>4.0</td>\n",
       "      <td>NaN</td>\n",
       "      <td>5.20</td>\n",
       "      <td>7</td>\n",
       "      <td>Quarter 3</td>\n",
       "    </tr>\n",
       "    <tr>\n",
       "      <th>5959</th>\n",
       "      <td>Mercedes-Benz SLK-Class</td>\n",
       "      <td>Coimbatore</td>\n",
       "      <td>2016</td>\n",
       "      <td>22732.0</td>\n",
       "      <td>Petrol</td>\n",
       "      <td>0</td>\n",
       "      <td>0</td>\n",
       "      <td>18.10</td>\n",
       "      <td>3498.0</td>\n",
       "      <td>306.0</td>\n",
       "      <td>Black/Silver</td>\n",
       "      <td>2.0</td>\n",
       "      <td>2.0</td>\n",
       "      <td>NaN</td>\n",
       "      <td>55.54</td>\n",
       "      <td>7</td>\n",
       "      <td>Quarter 3</td>\n",
       "    </tr>\n",
       "    <tr>\n",
       "      <th>5960</th>\n",
       "      <td>Hyundai i10</td>\n",
       "      <td>Kolkata</td>\n",
       "      <td>2016</td>\n",
       "      <td>7000.0</td>\n",
       "      <td>Petrol</td>\n",
       "      <td>1</td>\n",
       "      <td>0</td>\n",
       "      <td>20.36</td>\n",
       "      <td>1197.0</td>\n",
       "      <td>78.9</td>\n",
       "      <td>White</td>\n",
       "      <td>5.0</td>\n",
       "      <td>4.0</td>\n",
       "      <td>NaN</td>\n",
       "      <td>3.60</td>\n",
       "      <td>7</td>\n",
       "      <td>Quarter 3</td>\n",
       "    </tr>\n",
       "  </tbody>\n",
       "</table>\n",
       "<p>5619 rows × 17 columns</p>\n",
       "</div>"
      ],
      "text/plain": [
       "                         Name    Location  Year  Kilometers_Driven Fuel_Type  \\\n",
       "0            Mahindra Scorpio        Pune  2012            99000.0    Diesel   \n",
       "1               Maruti Baleno       Kochi  2018            18678.0    Petrol   \n",
       "2               Mahindra Xylo   Bangalore  2013           197000.0    Diesel   \n",
       "3               Hyundai Grand       Delhi  2014            45000.0    Diesel   \n",
       "4               Toyota Innova       Delhi  2011            65000.0    Diesel   \n",
       "...                       ...         ...   ...                ...       ...   \n",
       "5956              Honda Civic        Pune  2011            47000.0    Petrol   \n",
       "5957              Hyundai i20       Delhi  2013            63777.0    Petrol   \n",
       "5958             Maruti Swift  Coimbatore  2016            37806.0    Petrol   \n",
       "5959  Mercedes-Benz SLK-Class  Coimbatore  2016            22732.0    Petrol   \n",
       "5960              Hyundai i10     Kolkata  2016             7000.0    Petrol   \n",
       "\n",
       "      Transmission  Owner_Type  Mileage  Engine  Power        Colour  Seats  \\\n",
       "0                1           3    12.05  2179.0  120.0  Black/Silver    8.0   \n",
       "1                1           0    21.10   998.0  100.0        Others    5.0   \n",
       "2                1           0    11.68  2498.0  112.0         White    7.0   \n",
       "3                1           0    24.00  1120.0   70.0         White    5.0   \n",
       "4                1           0    12.80  2494.0  102.0        Others    8.0   \n",
       "...            ...         ...      ...     ...    ...           ...    ...   \n",
       "5956             0           2    13.90  1799.0  130.3        Others    5.0   \n",
       "5957             1           0    18.50  1197.0   82.9  Black/Silver    5.0   \n",
       "5958             1           0    20.40  1197.0   81.8  Black/Silver    5.0   \n",
       "5959             0           0    18.10  3498.0  306.0  Black/Silver    2.0   \n",
       "5960             1           0    20.36  1197.0   78.9         White    5.0   \n",
       "\n",
       "      No. of Doors New_Price  Price  Age Year Quarter  \n",
       "0              5.0       NaN   6.00   11    Quarter 2  \n",
       "1              4.0       NaN   8.32    5    Quarter 3  \n",
       "2              5.0       NaN   4.00   10    Quarter 3  \n",
       "3              4.0       NaN   3.49    9    Quarter 3  \n",
       "4              5.0       NaN   6.40   12    Quarter 2  \n",
       "...            ...       ...    ...  ...          ...  \n",
       "5956           4.0       NaN   4.50   12    Quarter 2  \n",
       "5957           4.0       NaN   3.67   10    Quarter 3  \n",
       "5958           4.0       NaN   5.20    7    Quarter 3  \n",
       "5959           2.0       NaN  55.54    7    Quarter 3  \n",
       "5960           4.0       NaN   3.60    7    Quarter 3  \n",
       "\n",
       "[5619 rows x 17 columns]"
      ]
     },
     "execution_count": 96,
     "metadata": {},
     "output_type": "execute_result"
    }
   ],
   "source": [
    "# Menyimpan data no outlier ke var baru\n",
    "no_outlier = df[(df['Age'] > lower_limit) & (df['Age'] < upper_limit)]\n",
    "no_outlier"
   ]
  },
  {
   "cell_type": "code",
   "execution_count": 97,
   "id": "50ddcb73",
   "metadata": {},
   "outputs": [
    {
     "data": {
      "text/plain": [
       "(7.0, 11.0)"
      ]
     },
     "execution_count": 97,
     "metadata": {},
     "output_type": "execute_result"
    }
   ],
   "source": [
    "Q1 = no_outlier['Age'].quantile(0.25)\n",
    "Q3 = no_outlier['Age'].quantile(0.75)\n",
    "\n",
    "Q1, Q3"
   ]
  },
  {
   "cell_type": "code",
   "execution_count": 98,
   "id": "59feec0f",
   "metadata": {},
   "outputs": [
    {
     "data": {
      "text/plain": [
       "4.0"
      ]
     },
     "execution_count": 98,
     "metadata": {},
     "output_type": "execute_result"
    }
   ],
   "source": [
    "IQR = Q3 - Q1\n",
    "IQR"
   ]
  },
  {
   "cell_type": "code",
   "execution_count": 99,
   "id": "57211857",
   "metadata": {},
   "outputs": [
    {
     "data": {
      "text/plain": [
       "(1.0, 17.0)"
      ]
     },
     "execution_count": 99,
     "metadata": {},
     "output_type": "execute_result"
    }
   ],
   "source": [
    "lowwer_limit = Q1 - 1.5*IQR\n",
    "upper_limit = Q3 + 1.5*IQR\n",
    "\n",
    "lowwer_limit,upper_limit"
   ]
  },
  {
   "cell_type": "code",
   "execution_count": 184,
   "id": "00e40e86",
   "metadata": {
    "scrolled": false
   },
   "outputs": [
    {
     "data": {
      "image/png": "[encoded data removed]",
      "text/plain": [
       "<Figure size 300x300 with 1 Axes>"
      ]
     },
     "metadata": {},
     "output_type": "display_data"
    }
   ],
   "source": [
    "plt.figure(figsize=(3,3))\n",
    "no_outlier.boxplot(column=['Age'])\n",
    "plt.title('Boxplot : Outlier yang sudah dihapus')\n",
    "plt.show()"
   ]
  },
  {
   "cell_type": "markdown",
   "id": "37c040d2",
   "metadata": {},
   "source": [
    "**MODELING & EVALUATION**"
   ]
  },
  {
   "cell_type": "code",
   "execution_count": 186,
   "id": "63c58dd7",
   "metadata": {
    "scrolled": true
   },
   "outputs": [
    {
     "data": {
      "text/html": [
       "<div>\n",
       "<style scoped>\n",
       "    .dataframe tbody tr th:only-of-type {\n",
       "        vertical-align: middle;\n",
       "    }\n",
       "\n",
       "    .dataframe tbody tr th {\n",
       "        vertical-align: top;\n",
       "    }\n",
       "\n",
       "    .dataframe thead th {\n",
       "        text-align: right;\n",
       "    }\n",
       "</style>\n",
       "<table border=\"1\" class=\"dataframe\">\n",
       "  <thead>\n",
       "    <tr style=\"text-align: right;\">\n",
       "      <th></th>\n",
       "      <th>Age</th>\n",
       "      <th>Engine</th>\n",
       "      <th>Power</th>\n",
       "      <th>Price</th>\n",
       "    </tr>\n",
       "  </thead>\n",
       "  <tbody>\n",
       "    <tr>\n",
       "      <th>0</th>\n",
       "      <td>11</td>\n",
       "      <td>2179.0</td>\n",
       "      <td>120.0</td>\n",
       "      <td>6.00</td>\n",
       "    </tr>\n",
       "    <tr>\n",
       "      <th>1</th>\n",
       "      <td>5</td>\n",
       "      <td>998.0</td>\n",
       "      <td>100.0</td>\n",
       "      <td>8.32</td>\n",
       "    </tr>\n",
       "    <tr>\n",
       "      <th>2</th>\n",
       "      <td>10</td>\n",
       "      <td>2498.0</td>\n",
       "      <td>112.0</td>\n",
       "      <td>4.00</td>\n",
       "    </tr>\n",
       "    <tr>\n",
       "      <th>3</th>\n",
       "      <td>9</td>\n",
       "      <td>1120.0</td>\n",
       "      <td>70.0</td>\n",
       "      <td>3.49</td>\n",
       "    </tr>\n",
       "    <tr>\n",
       "      <th>4</th>\n",
       "      <td>12</td>\n",
       "      <td>2494.0</td>\n",
       "      <td>102.0</td>\n",
       "      <td>6.40</td>\n",
       "    </tr>\n",
       "    <tr>\n",
       "      <th>...</th>\n",
       "      <td>...</td>\n",
       "      <td>...</td>\n",
       "      <td>...</td>\n",
       "      <td>...</td>\n",
       "    </tr>\n",
       "    <tr>\n",
       "      <th>5956</th>\n",
       "      <td>12</td>\n",
       "      <td>1799.0</td>\n",
       "      <td>130.3</td>\n",
       "      <td>4.50</td>\n",
       "    </tr>\n",
       "    <tr>\n",
       "      <th>5957</th>\n",
       "      <td>10</td>\n",
       "      <td>1197.0</td>\n",
       "      <td>82.9</td>\n",
       "      <td>3.67</td>\n",
       "    </tr>\n",
       "    <tr>\n",
       "      <th>5958</th>\n",
       "      <td>7</td>\n",
       "      <td>1197.0</td>\n",
       "      <td>81.8</td>\n",
       "      <td>5.20</td>\n",
       "    </tr>\n",
       "    <tr>\n",
       "      <th>5959</th>\n",
       "      <td>7</td>\n",
       "      <td>3498.0</td>\n",
       "      <td>306.0</td>\n",
       "      <td>55.54</td>\n",
       "    </tr>\n",
       "    <tr>\n",
       "      <th>5960</th>\n",
       "      <td>7</td>\n",
       "      <td>1197.0</td>\n",
       "      <td>78.9</td>\n",
       "      <td>3.60</td>\n",
       "    </tr>\n",
       "  </tbody>\n",
       "</table>\n",
       "<p>5786 rows × 4 columns</p>\n",
       "</div>"
      ],
      "text/plain": [
       "      Age  Engine  Power  Price\n",
       "0      11  2179.0  120.0   6.00\n",
       "1       5   998.0  100.0   8.32\n",
       "2      10  2498.0  112.0   4.00\n",
       "3       9  1120.0   70.0   3.49\n",
       "4      12  2494.0  102.0   6.40\n",
       "...   ...     ...    ...    ...\n",
       "5956   12  1799.0  130.3   4.50\n",
       "5957   10  1197.0   82.9   3.67\n",
       "5958    7  1197.0   81.8   5.20\n",
       "5959    7  3498.0  306.0  55.54\n",
       "5960    7  1197.0   78.9   3.60\n",
       "\n",
       "[5786 rows x 4 columns]"
      ]
     },
     "execution_count": 186,
     "metadata": {},
     "output_type": "execute_result"
    }
   ],
   "source": [
    "df_cut1 = df[['Age','Engine','Power','Price']]\n",
    "df_cut1"
   ]
  },
  {
   "cell_type": "code",
   "execution_count": 187,
   "id": "c8e33a43",
   "metadata": {},
   "outputs": [],
   "source": [
    "msk = np.random.rand(len(df)) < 0.8\n",
    "train = df_cut1[msk]\n",
    "test = df_cut1[~msk]"
   ]
  },
  {
   "cell_type": "code",
   "execution_count": 188,
   "id": "8e17b798",
   "metadata": {},
   "outputs": [
    {
     "name": "stdout",
     "output_type": "stream",
     "text": [
      "Coefficients:  [[-1.04386736e+00  9.78555098e-04  1.49613647e-01]]\n"
     ]
    }
   ],
   "source": [
    "from sklearn import linear_model\n",
    "regr = linear_model.LinearRegression()\n",
    "x = np.asanyarray(train[['Age','Engine', 'Power']])\n",
    "y = np.asanyarray(train[['Price']])\n",
    "regr.fit(x, y)\n",
    "# The coefficients\n",
    "print ('Coefficients: ', regr.coef_)"
   ]
  },
  {
   "cell_type": "code",
   "execution_count": 189,
   "id": "d97a4157",
   "metadata": {},
   "outputs": [
    {
     "name": "stdout",
     "output_type": "stream",
     "text": [
      "Residual sum of squares: 34.39\n",
      "Variance score: 0.72\n"
     ]
    },
    {
     "name": "stderr",
     "output_type": "stream",
     "text": [
      "C:\\Users\\Lenovo\\anaconda3\\Lib\\site-packages\\sklearn\\base.py:457: UserWarning: X has feature names, but LinearRegression was fitted without feature names\n",
      "  warnings.warn(\n"
     ]
    }
   ],
   "source": [
    "y_hat = regr.predict(test[['Age','Engine', 'Power']])\n",
    "x = np.asanyarray(test[['Age', 'Engine', 'Power']])\n",
    "y = np.asanyarray(test[['Price']])\n",
    "print(\"Residual sum of squares: %.2f\"\n",
    "    % np.mean((y_hat - y) ** 2))\n",
    "\n",
    "# Explained variance score: 1 is perfect prediction\n",
    "print('Variance score: %.2f' % regr.score(x, y))"
   ]
  },
  {
   "cell_type": "code",
   "execution_count": null,
   "id": "59d8a9e1",
   "metadata": {},
   "outputs": [],
   "source": []
  }
 ],
 "metadata": {
  "kernelspec": {
   "display_name": "Python 3 (ipykernel)",
   "language": "python",
   "name": "python3"
  },
  "language_info": {
   "codemirror_mode": {
    "name": "ipython",
    "version": 3
   },
   "file_extension": ".py",
   "mimetype": "text/x-python",
   "name": "python",
   "nbconvert_exporter": "python",
   "pygments_lexer": "ipython3",
   "version": "3.11.4"
  }
 },
 "nbformat": 4,
 "nbformat_minor": 5
}
